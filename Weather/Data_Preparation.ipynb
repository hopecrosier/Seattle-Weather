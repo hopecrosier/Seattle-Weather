{
  "nbformat": 4,
  "nbformat_minor": 0,
  "metadata": {
    "colab": {
      "provenance": []
    },
    "kernelspec": {
      "name": "python3",
      "display_name": "Python 3"
    },
    "language_info": {
      "name": "python"
    }
  },
  "cells": [
    {
      "cell_type": "markdown",
      "source": [
        "## Import libraries"
      ],
      "metadata": {
        "id": "_c27pGl7KbJe"
      }
    },
    {
      "cell_type": "code",
      "source": [
        "import pandas as pd\n",
        "import numpy as np\n",
        "import matplotlib.pyplot as plt\n",
        "import seaborn as sns\n",
        "sns.set_theme(style='whitegrid')\n",
        "import missingno as msno"
      ],
      "metadata": {
        "id": "fhn--T_paqBB"
      },
      "execution_count": 1,
      "outputs": []
    },
    {
      "cell_type": "markdown",
      "source": [
        "a. Describe of the source of the data, including all necessary links to data sources, where possible. \n",
        "\n",
        "b. Inspect the contents of each data set.\n",
        "\n",
        "c. If necessary, convert data types of columns of the data frames to the correct types.\n",
        "\n",
        "d. Remove unnecessary parts of the data sets (e.g. duplicate entries, dates beyond the desired range, etc).\n",
        "\n",
        "e. Identify missing values in the data sets. Impute or remove NaN values, as appropriate.\n",
        "\n",
        "f. Join the Seattle and St. Louis data frames, keeping only the date and precipitation values.\n",
        "\n",
        "g. Ensure that the data frame is in a tidy, or long, format.\n",
        "\n",
        "h. Rename the columns, if necessary, to follow best practices of being lowercase, snake_case, and understandable.\n",
        "\n",
        "i. Create any derived variables that will be useful in the analysis.\n",
        "\n",
        "j. Export the clean data set as a csv file and upload the csv file to your Github repository for the project."
      ],
      "metadata": {
        "id": "KttxzC6xYgxN"
      }
    },
    {
      "cell_type": "markdown",
      "source": [
        "## Load the data"
      ],
      "metadata": {
        "id": "7B8L1PwyaDlX"
      }
    },
    {
      "cell_type": "markdown",
      "source": [
        "Our data comes from The [NOAA](https://www.ncei.noaa.gov/cdo-web/search?datasetid=GHCND) National Centers for Environmental Information.\n",
        " <br>\n",
        "They provide records of daily precipitation, and we used records of daily precipitation from both Seattle and St. Louis from the years 2018-2022\n",
        "<br>\n",
        "These records, called seattle_rain.csv and stl_rain.csv, can be found in a [github repository](https://github.com/hopecrosier/Seattle-Weather/tree/main/Weather) "
      ],
      "metadata": {
        "id": "Ec0ZgTYkYnNK"
      }
    },
    {
      "cell_type": "markdown",
      "source": [
        "We will load the two data sets into two seperate data frames, df_seattle and df_stlouis"
      ],
      "metadata": {
        "id": "wBveAJCKaMU3"
      }
    },
    {
      "cell_type": "code",
      "source": [
        "df_seattle = pd.read_csv('https://github.com/hopecrosier/Seattle-Weather/raw/main/Weather/seattle_rain.csv')"
      ],
      "metadata": {
        "id": "dGan-8l6aHpR"
      },
      "execution_count": 2,
      "outputs": []
    },
    {
      "cell_type": "code",
      "source": [
        "df_stlouis = pd.read_csv('https://github.com/hopecrosier/Seattle-Weather/raw/main/Weather/stl_rain.csv')"
      ],
      "metadata": {
        "id": "G7CN_oYhaLeq"
      },
      "execution_count": 3,
      "outputs": []
    },
    {
      "cell_type": "markdown",
      "source": [
        "## Explore the contents of the data sets"
      ],
      "metadata": {
        "id": "cA-_j8LfZ5fA"
      }
    },
    {
      "cell_type": "markdown",
      "source": [
        "We want to look at the data within these dataframes and get a sense of what kind of variables and observations are held within"
      ],
      "metadata": {
        "id": "noDk-YR4a7n3"
      }
    },
    {
      "cell_type": "code",
      "execution_count": 4,
      "metadata": {
        "colab": {
          "base_uri": "https://localhost:8080/"
        },
        "id": "0Wk9BBCRV_Ik",
        "outputId": "f4b3f503-9864-4ae6-e9b8-47d4cd27bd91"
      },
      "outputs": [
        {
          "output_type": "stream",
          "name": "stdout",
          "text": [
            "<class 'pandas.core.frame.DataFrame'>\n",
            "RangeIndex: 54574 entries, 0 to 54573\n",
            "Data columns (total 8 columns):\n",
            " #   Column   Non-Null Count  Dtype  \n",
            "---  ------   --------------  -----  \n",
            " 0   STATION  54574 non-null  object \n",
            " 1   NAME     54574 non-null  object \n",
            " 2   DATE     54574 non-null  object \n",
            " 3   DAPR     1166 non-null   float64\n",
            " 4   MDPR     1163 non-null   float64\n",
            " 5   PRCP     53143 non-null  float64\n",
            " 6   SNOW     33167 non-null  float64\n",
            " 7   SNWD     12835 non-null  float64\n",
            "dtypes: float64(5), object(3)\n",
            "memory usage: 3.3+ MB\n"
          ]
        }
      ],
      "source": [
        "df_stlouis.info()"
      ]
    },
    {
      "cell_type": "code",
      "source": [
        "df_stlouis.columns"
      ],
      "metadata": {
        "colab": {
          "base_uri": "https://localhost:8080/"
        },
        "id": "z7NcbD_fbl7x",
        "outputId": "d7397ee7-d368-47c5-f090-d38f743ed69e"
      },
      "execution_count": 5,
      "outputs": [
        {
          "output_type": "execute_result",
          "data": {
            "text/plain": [
              "Index(['STATION', 'NAME', 'DATE', 'DAPR', 'MDPR', 'PRCP', 'SNOW', 'SNWD'], dtype='object')"
            ]
          },
          "metadata": {},
          "execution_count": 5
        }
      ]
    },
    {
      "cell_type": "code",
      "source": [
        "df_seattle.info()"
      ],
      "metadata": {
        "colab": {
          "base_uri": "https://localhost:8080/"
        },
        "id": "4VHLQf3sa5cz",
        "outputId": "a2747b58-791d-41b4-dc95-43df0828cdf5"
      },
      "execution_count": 6,
      "outputs": [
        {
          "output_type": "stream",
          "name": "stdout",
          "text": [
            "<class 'pandas.core.frame.DataFrame'>\n",
            "RangeIndex: 1658 entries, 0 to 1657\n",
            "Data columns (total 10 columns):\n",
            " #   Column   Non-Null Count  Dtype  \n",
            "---  ------   --------------  -----  \n",
            " 0   STATION  1658 non-null   object \n",
            " 1   NAME     1658 non-null   object \n",
            " 2   DATE     1658 non-null   object \n",
            " 3   DAPR     23 non-null     float64\n",
            " 4   MDPR     23 non-null     float64\n",
            " 5   PRCP     1636 non-null   float64\n",
            " 6   SNOW     353 non-null    float64\n",
            " 7   SNWD     66 non-null     float64\n",
            " 8   WESD     15 non-null     float64\n",
            " 9   WESF     28 non-null     float64\n",
            "dtypes: float64(7), object(3)\n",
            "memory usage: 129.7+ KB\n"
          ]
        }
      ]
    },
    {
      "cell_type": "code",
      "source": [
        "df_seattle.columns"
      ],
      "metadata": {
        "id": "2rbdL9iFboUa",
        "outputId": "b5b4146e-4a63-4665-802e-be27204fd717",
        "colab": {
          "base_uri": "https://localhost:8080/"
        }
      },
      "execution_count": 7,
      "outputs": [
        {
          "output_type": "execute_result",
          "data": {
            "text/plain": [
              "Index(['STATION', 'NAME', 'DATE', 'DAPR', 'MDPR', 'PRCP', 'SNOW', 'SNWD',\n",
              "       'WESD', 'WESF'],\n",
              "      dtype='object')"
            ]
          },
          "metadata": {},
          "execution_count": 7
        }
      ]
    },
    {
      "cell_type": "markdown",
      "source": [
        "After looking into what observations these dataframes have, it looks like we will be most interested in the NAME, DATE and PRCP fields since we want to know how much it rained (PRCP) on what day (DATE) and where this was recorded (NAME)"
      ],
      "metadata": {
        "id": "vNhFOVmV8jtu"
      }
    },
    {
      "cell_type": "markdown",
      "source": [
        "## Are the data suitable for answering the question?"
      ],
      "metadata": {
        "id": "gY59rsDwPtq-"
      }
    },
    {
      "cell_type": "code",
      "source": [
        "plt.figure(figsize=(20,5))\n",
        "sns.lineplot(data = df_seattle, x = 'DATE', y = 'PRCP')\n",
        "plt.xlabel('Date', fontsize = 18)\n",
        "plt.ylabel('Precipitation (inches)', fontsize = 18)\n",
        "plt.tick_params(labelsize = 15);"
      ],
      "metadata": {
        "colab": {
          "base_uri": "https://localhost:8080/",
          "height": 391
        },
        "id": "D6yVoivFPuaq",
        "outputId": "58ed3e3a-7d37-4480-8fe0-5b1388e3a21d"
      },
      "execution_count": 8,
      "outputs": [
        {
          "output_type": "display_data",
          "data": {
            "text/plain": [
              "<Figure size 2000x500 with 1 Axes>"
            ],
            "image/png": "[encoded data removed]"
          },
          "metadata": {}
        }
      ]
    },
    {
      "cell_type": "code",
      "source": [
        "plt.figure(figsize=(20,5))\n",
        "sns.lineplot(data = df_stlouis, x = 'DATE', y = 'PRCP')\n",
        "plt.xlabel('Date', fontsize = 18)\n",
        "plt.ylabel('Precipitation (inches)', fontsize = 18)\n",
        "plt.tick_params(labelsize = 15);"
      ],
      "metadata": {
        "colab": {
          "base_uri": "https://localhost:8080/",
          "height": 396
        },
        "id": "ltxWnB6vPxHE",
        "outputId": "bebf169f-bd9d-4675-8e93-b67601e11055"
      },
      "execution_count": 9,
      "outputs": [
        {
          "output_type": "display_data",
          "data": {
            "text/plain": [
              "<Figure size 2000x500 with 1 Axes>"
            ],
            "image/png": "[encoded data removed]"
          },
          "metadata": {}
        }
      ]
    },
    {
      "cell_type": "markdown",
      "source": [
        "We can see that there are plenty of precipitation observations in both data frames, which leads us to believe that yes this data is suitable for answering the question."
      ],
      "metadata": {
        "id": "Lda3NjHBP0Wu"
      }
    },
    {
      "cell_type": "markdown",
      "source": [
        "## Convert data types, if necessary"
      ],
      "metadata": {
        "id": "vF6dYw_H8zPS"
      }
    },
    {
      "cell_type": "markdown",
      "source": [
        "It looks like the DATE column values are recorded as objects, and not datetime variables, so we want to go ahead and convert both data frames values from objects to datetimes"
      ],
      "metadata": {
        "id": "fCeZ_8Nw89X8"
      }
    },
    {
      "cell_type": "code",
      "source": [
        "df_seattle['DATE'] = pd.to_datetime(df_seattle['DATE'])"
      ],
      "metadata": {
        "id": "bRMUcY4d83ez"
      },
      "execution_count": 10,
      "outputs": []
    },
    {
      "cell_type": "code",
      "source": [
        "df_stlouis['DATE'] = pd.to_datetime(df_stlouis['DATE'])"
      ],
      "metadata": {
        "id": "VDkOdWCr87zy"
      },
      "execution_count": 11,
      "outputs": []
    },
    {
      "cell_type": "code",
      "source": [
        "df_seattle.info()"
      ],
      "metadata": {
        "colab": {
          "base_uri": "https://localhost:8080/"
        },
        "id": "GJ-YWhQ-9KEG",
        "outputId": "ca319886-0805-4c47-90b7-2a714e8dcaf9"
      },
      "execution_count": 12,
      "outputs": [
        {
          "output_type": "stream",
          "name": "stdout",
          "text": [
            "<class 'pandas.core.frame.DataFrame'>\n",
            "RangeIndex: 1658 entries, 0 to 1657\n",
            "Data columns (total 10 columns):\n",
            " #   Column   Non-Null Count  Dtype         \n",
            "---  ------   --------------  -----         \n",
            " 0   STATION  1658 non-null   object        \n",
            " 1   NAME     1658 non-null   object        \n",
            " 2   DATE     1658 non-null   datetime64[ns]\n",
            " 3   DAPR     23 non-null     float64       \n",
            " 4   MDPR     23 non-null     float64       \n",
            " 5   PRCP     1636 non-null   float64       \n",
            " 6   SNOW     353 non-null    float64       \n",
            " 7   SNWD     66 non-null     float64       \n",
            " 8   WESD     15 non-null     float64       \n",
            " 9   WESF     28 non-null     float64       \n",
            "dtypes: datetime64[ns](1), float64(7), object(2)\n",
            "memory usage: 129.7+ KB\n"
          ]
        }
      ]
    },
    {
      "cell_type": "code",
      "source": [
        "df_stlouis.info()"
      ],
      "metadata": {
        "colab": {
          "base_uri": "https://localhost:8080/"
        },
        "id": "UwrdkmA69MY3",
        "outputId": "8d240a95-8fdf-4f51-a803-9e6e5cd762dd"
      },
      "execution_count": 13,
      "outputs": [
        {
          "output_type": "stream",
          "name": "stdout",
          "text": [
            "<class 'pandas.core.frame.DataFrame'>\n",
            "RangeIndex: 54574 entries, 0 to 54573\n",
            "Data columns (total 8 columns):\n",
            " #   Column   Non-Null Count  Dtype         \n",
            "---  ------   --------------  -----         \n",
            " 0   STATION  54574 non-null  object        \n",
            " 1   NAME     54574 non-null  object        \n",
            " 2   DATE     54574 non-null  datetime64[ns]\n",
            " 3   DAPR     1166 non-null   float64       \n",
            " 4   MDPR     1163 non-null   float64       \n",
            " 5   PRCP     53143 non-null  float64       \n",
            " 6   SNOW     33167 non-null  float64       \n",
            " 7   SNWD     12835 non-null  float64       \n",
            "dtypes: datetime64[ns](1), float64(5), object(2)\n",
            "memory usage: 3.3+ MB\n"
          ]
        }
      ]
    },
    {
      "cell_type": "markdown",
      "source": [
        "Now we can see that all the DATE observations in both data sets are datetime values"
      ],
      "metadata": {
        "id": "j2Lqsytv9PTh"
      }
    },
    {
      "cell_type": "markdown",
      "source": [
        "## Identify and deal with missing values"
      ],
      "metadata": {
        "id": "SNkPg8T89gAK"
      }
    },
    {
      "cell_type": "code",
      "source": [
        "df_stlouis"
      ],
      "metadata": {
        "colab": {
          "base_uri": "https://localhost:8080/",
          "height": 424
        },
        "id": "5QAI4Oz89k3U",
        "outputId": "0903cf0b-b50f-45af-da53-c112fe30cb09"
      },
      "execution_count": 14,
      "outputs": [
        {
          "output_type": "execute_result",
          "data": {
            "text/plain": [
              "           STATION                       NAME       DATE  DAPR  MDPR  PRCP  \\\n",
              "0      US1MOSS0027  ST. CHARLES 2.3 NE, MO US 2017-01-01   NaN   NaN  0.00   \n",
              "1      US1MOSS0027  ST. CHARLES 2.3 NE, MO US 2017-01-03   NaN   NaN  0.35   \n",
              "2      US1MOSS0027  ST. CHARLES 2.3 NE, MO US 2017-01-04   NaN   NaN  0.03   \n",
              "3      US1MOSS0027  ST. CHARLES 2.3 NE, MO US 2017-01-05   NaN   NaN  0.04   \n",
              "4      US1MOSS0027  ST. CHARLES 2.3 NE, MO US 2017-01-06   NaN   NaN  0.00   \n",
              "...            ...                        ...        ...   ...   ...   ...   \n",
              "54569  US1MOSL0084   DES PERES 0.7 SSW, MO US 2022-12-08   NaN   NaN  0.00   \n",
              "54570  US1MOSL0084   DES PERES 0.7 SSW, MO US 2022-12-13   NaN   NaN  0.00   \n",
              "54571  US1MOSL0084   DES PERES 0.7 SSW, MO US 2022-12-14   NaN   NaN  0.89   \n",
              "54572  US1MOSL0084   DES PERES 0.7 SSW, MO US 2022-12-15   NaN   NaN  0.36   \n",
              "54573  US1MOSL0084   DES PERES 0.7 SSW, MO US 2022-12-16   NaN   NaN  0.00   \n",
              "\n",
              "       SNOW  SNWD  \n",
              "0       0.0   NaN  \n",
              "1       NaN   NaN  \n",
              "2       NaN   NaN  \n",
              "3       1.2   NaN  \n",
              "4       0.0   1.0  \n",
              "...     ...   ...  \n",
              "54569   NaN   NaN  \n",
              "54570   0.0   NaN  \n",
              "54571   NaN   NaN  \n",
              "54572   NaN   NaN  \n",
              "54573   0.0   NaN  \n",
              "\n",
              "[54574 rows x 8 columns]"
            ],
            "text/html": [
              "\n",
              "  <div id=\"df-6c3b297d-7259-4ad4-8f76-27eebe68346c\">\n",
              "    <div class=\"colab-df-container\">\n",
              "      <div>\n",
              "<style scoped>\n",
              "    .dataframe tbody tr th:only-of-type {\n",
              "        vertical-align: middle;\n",
              "    }\n",
              "\n",
              "    .dataframe tbody tr th {\n",
              "        vertical-align: top;\n",
              "    }\n",
              "\n",
              "    .dataframe thead th {\n",
              "        text-align: right;\n",
              "    }\n",
              "</style>\n",
              "<table border=\"1\" class=\"dataframe\">\n",
              "  <thead>\n",
              "    <tr style=\"text-align: right;\">\n",
              "      <th></th>\n",
              "      <th>STATION</th>\n",
              "      <th>NAME</th>\n",
              "      <th>DATE</th>\n",
              "      <th>DAPR</th>\n",
              "      <th>MDPR</th>\n",
              "      <th>PRCP</th>\n",
              "      <th>SNOW</th>\n",
              "      <th>SNWD</th>\n",
              "    </tr>\n",
              "  </thead>\n",
              "  <tbody>\n",
              "    <tr>\n",
              "      <th>0</th>\n",
              "      <td>US1MOSS0027</td>\n",
              "      <td>ST. CHARLES 2.3 NE, MO US</td>\n",
              "      <td>2017-01-01</td>\n",
              "      <td>NaN</td>\n",
              "      <td>NaN</td>\n",
              "      <td>0.00</td>\n",
              "      <td>0.0</td>\n",
              "      <td>NaN</td>\n",
              "    </tr>\n",
              "    <tr>\n",
              "      <th>1</th>\n",
              "      <td>US1MOSS0027</td>\n",
              "      <td>ST. CHARLES 2.3 NE, MO US</td>\n",
              "      <td>2017-01-03</td>\n",
              "      <td>NaN</td>\n",
              "      <td>NaN</td>\n",
              "      <td>0.35</td>\n",
              "      <td>NaN</td>\n",
              "      <td>NaN</td>\n",
              "    </tr>\n",
              "    <tr>\n",
              "      <th>2</th>\n",
              "      <td>US1MOSS0027</td>\n",
              "      <td>ST. CHARLES 2.3 NE, MO US</td>\n",
              "      <td>2017-01-04</td>\n",
              "      <td>NaN</td>\n",
              "      <td>NaN</td>\n",
              "      <td>0.03</td>\n",
              "      <td>NaN</td>\n",
              "      <td>NaN</td>\n",
              "    </tr>\n",
              "    <tr>\n",
              "      <th>3</th>\n",
              "      <td>US1MOSS0027</td>\n",
              "      <td>ST. CHARLES 2.3 NE, MO US</td>\n",
              "      <td>2017-01-05</td>\n",
              "      <td>NaN</td>\n",
              "      <td>NaN</td>\n",
              "      <td>0.04</td>\n",
              "      <td>1.2</td>\n",
              "      <td>NaN</td>\n",
              "    </tr>\n",
              "    <tr>\n",
              "      <th>4</th>\n",
              "      <td>US1MOSS0027</td>\n",
              "      <td>ST. CHARLES 2.3 NE, MO US</td>\n",
              "      <td>2017-01-06</td>\n",
              "      <td>NaN</td>\n",
              "      <td>NaN</td>\n",
              "      <td>0.00</td>\n",
              "      <td>0.0</td>\n",
              "      <td>1.0</td>\n",
              "    </tr>\n",
              "    <tr>\n",
              "      <th>...</th>\n",
              "      <td>...</td>\n",
              "      <td>...</td>\n",
              "      <td>...</td>\n",
              "      <td>...</td>\n",
              "      <td>...</td>\n",
              "      <td>...</td>\n",
              "      <td>...</td>\n",
              "      <td>...</td>\n",
              "    </tr>\n",
              "    <tr>\n",
              "      <th>54569</th>\n",
              "      <td>US1MOSL0084</td>\n",
              "      <td>DES PERES 0.7 SSW, MO US</td>\n",
              "      <td>2022-12-08</td>\n",
              "      <td>NaN</td>\n",
              "      <td>NaN</td>\n",
              "      <td>0.00</td>\n",
              "      <td>NaN</td>\n",
              "      <td>NaN</td>\n",
              "    </tr>\n",
              "    <tr>\n",
              "      <th>54570</th>\n",
              "      <td>US1MOSL0084</td>\n",
              "      <td>DES PERES 0.7 SSW, MO US</td>\n",
              "      <td>2022-12-13</td>\n",
              "      <td>NaN</td>\n",
              "      <td>NaN</td>\n",
              "      <td>0.00</td>\n",
              "      <td>0.0</td>\n",
              "      <td>NaN</td>\n",
              "    </tr>\n",
              "    <tr>\n",
              "      <th>54571</th>\n",
              "      <td>US1MOSL0084</td>\n",
              "      <td>DES PERES 0.7 SSW, MO US</td>\n",
              "      <td>2022-12-14</td>\n",
              "      <td>NaN</td>\n",
              "      <td>NaN</td>\n",
              "      <td>0.89</td>\n",
              "      <td>NaN</td>\n",
              "      <td>NaN</td>\n",
              "    </tr>\n",
              "    <tr>\n",
              "      <th>54572</th>\n",
              "      <td>US1MOSL0084</td>\n",
              "      <td>DES PERES 0.7 SSW, MO US</td>\n",
              "      <td>2022-12-15</td>\n",
              "      <td>NaN</td>\n",
              "      <td>NaN</td>\n",
              "      <td>0.36</td>\n",
              "      <td>NaN</td>\n",
              "      <td>NaN</td>\n",
              "    </tr>\n",
              "    <tr>\n",
              "      <th>54573</th>\n",
              "      <td>US1MOSL0084</td>\n",
              "      <td>DES PERES 0.7 SSW, MO US</td>\n",
              "      <td>2022-12-16</td>\n",
              "      <td>NaN</td>\n",
              "      <td>NaN</td>\n",
              "      <td>0.00</td>\n",
              "      <td>0.0</td>\n",
              "      <td>NaN</td>\n",
              "    </tr>\n",
              "  </tbody>\n",
              "</table>\n",
              "<p>54574 rows × 8 columns</p>\n",
              "</div>\n",
              "      <button class=\"colab-df-convert\" onclick=\"convertToInteractive('df-6c3b297d-7259-4ad4-8f76-27eebe68346c')\"\n",
              "              title=\"Convert this dataframe to an interactive table.\"\n",
              "              style=\"display:none;\">\n",
              "        \n",
              "  <svg xmlns=\"http://www.w3.org/2000/svg\" height=\"24px\"viewBox=\"0 0 24 24\"\n",
              "       width=\"24px\">\n",
              "    <path d=\"M0 0h24v24H0V0z\" fill=\"none\"/>\n",
              "    <path d=\"M18.56 5.44l.94 2.06.94-2.06 2.06-.94-2.06-.94-.94-2.06-.94 2.06-2.06.94zm-11 1L8.5 8.5l.94-2.06 2.06-.94-2.06-.94L8.5 2.5l-.94 2.06-2.06.94zm10 10l.94 2.06.94-2.06 2.06-.94-2.06-.94-.94-2.06-.94 2.06-2.06.94z\"/><path d=\"M17.41 7.96l-1.37-1.37c-.4-.4-.92-.59-1.43-.59-.52 0-1.04.2-1.43.59L10.3 9.45l-7.72 7.72c-.78.78-.78 2.05 0 2.83L4 21.41c.39.39.9.59 1.41.59.51 0 1.02-.2 1.41-.59l7.78-7.78 2.81-2.81c.8-.78.8-2.07 0-2.86zM5.41 20L4 18.59l7.72-7.72 1.47 1.35L5.41 20z\"/>\n",
              "  </svg>\n",
              "      </button>\n",
              "      \n",
              "  <style>\n",
              "    .colab-df-container {\n",
              "      display:flex;\n",
              "      flex-wrap:wrap;\n",
              "      gap: 12px;\n",
              "    }\n",
              "\n",
              "    .colab-df-convert {\n",
              "      background-color: #E8F0FE;\n",
              "      border: none;\n",
              "      border-radius: 50%;\n",
              "      cursor: pointer;\n",
              "      display: none;\n",
              "      fill: #1967D2;\n",
              "      height: 32px;\n",
              "      padding: 0 0 0 0;\n",
              "      width: 32px;\n",
              "    }\n",
              "\n",
              "    .colab-df-convert:hover {\n",
              "      background-color: #E2EBFA;\n",
              "      box-shadow: 0px 1px 2px rgba(60, 64, 67, 0.3), 0px 1px 3px 1px rgba(60, 64, 67, 0.15);\n",
              "      fill: #174EA6;\n",
              "    }\n",
              "\n",
              "    [theme=dark] .colab-df-convert {\n",
              "      background-color: #3B4455;\n",
              "      fill: #D2E3FC;\n",
              "    }\n",
              "\n",
              "    [theme=dark] .colab-df-convert:hover {\n",
              "      background-color: #434B5C;\n",
              "      box-shadow: 0px 1px 3px 1px rgba(0, 0, 0, 0.15);\n",
              "      filter: drop-shadow(0px 1px 2px rgba(0, 0, 0, 0.3));\n",
              "      fill: #FFFFFF;\n",
              "    }\n",
              "  </style>\n",
              "\n",
              "      <script>\n",
              "        const buttonEl =\n",
              "          document.querySelector('#df-6c3b297d-7259-4ad4-8f76-27eebe68346c button.colab-df-convert');\n",
              "        buttonEl.style.display =\n",
              "          google.colab.kernel.accessAllowed ? 'block' : 'none';\n",
              "\n",
              "        async function convertToInteractive(key) {\n",
              "          const element = document.querySelector('#df-6c3b297d-7259-4ad4-8f76-27eebe68346c');\n",
              "          const dataTable =\n",
              "            await google.colab.kernel.invokeFunction('convertToInteractive',\n",
              "                                                     [key], {});\n",
              "          if (!dataTable) return;\n",
              "\n",
              "          const docLinkHtml = 'Like what you see? Visit the ' +\n",
              "            '<a target=\"_blank\" href=https://colab.research.google.com/notebooks/data_table.ipynb>data table notebook</a>'\n",
              "            + ' to learn more about interactive tables.';\n",
              "          element.innerHTML = '';\n",
              "          dataTable['output_type'] = 'display_data';\n",
              "          await google.colab.output.renderOutput(dataTable, element);\n",
              "          const docLink = document.createElement('div');\n",
              "          docLink.innerHTML = docLinkHtml;\n",
              "          element.appendChild(docLink);\n",
              "        }\n",
              "      </script>\n",
              "    </div>\n",
              "  </div>\n",
              "  "
            ]
          },
          "metadata": {},
          "execution_count": 14
        }
      ]
    },
    {
      "cell_type": "code",
      "source": [
        "df_seattle"
      ],
      "metadata": {
        "colab": {
          "base_uri": "https://localhost:8080/",
          "height": 424
        },
        "id": "G28teytN98vN",
        "outputId": "14465787-28e4-4b08-9533-9938de3d56e4"
      },
      "execution_count": 15,
      "outputs": [
        {
          "output_type": "execute_result",
          "data": {
            "text/plain": [
              "          STATION                    NAME       DATE  DAPR  MDPR  PRCP  SNOW  \\\n",
              "0     US1WAKG0225  SEATTLE 2.1 ESE, WA US 2018-01-01   NaN   NaN  0.00   NaN   \n",
              "1     US1WAKG0225  SEATTLE 2.1 ESE, WA US 2018-01-02   NaN   NaN  0.00   NaN   \n",
              "2     US1WAKG0225  SEATTLE 2.1 ESE, WA US 2018-01-03   NaN   NaN  0.00   NaN   \n",
              "3     US1WAKG0225  SEATTLE 2.1 ESE, WA US 2018-01-04   NaN   NaN  0.00   NaN   \n",
              "4     US1WAKG0225  SEATTLE 2.1 ESE, WA US 2018-01-05   NaN   NaN  0.25   NaN   \n",
              "...           ...                     ...        ...   ...   ...   ...   ...   \n",
              "1653  US1WAKG0225  SEATTLE 2.1 ESE, WA US 2022-12-27   NaN   NaN  0.78   NaN   \n",
              "1654  US1WAKG0225  SEATTLE 2.1 ESE, WA US 2022-12-28   NaN   NaN  0.40   NaN   \n",
              "1655  US1WAKG0225  SEATTLE 2.1 ESE, WA US 2022-12-29   NaN   NaN  0.03   NaN   \n",
              "1656  US1WAKG0225  SEATTLE 2.1 ESE, WA US 2022-12-30   NaN   NaN  0.62   NaN   \n",
              "1657  US1WAKG0225  SEATTLE 2.1 ESE, WA US 2022-12-31   NaN   NaN  0.17   NaN   \n",
              "\n",
              "      SNWD  WESD  WESF  \n",
              "0      NaN   NaN   NaN  \n",
              "1      NaN   NaN   NaN  \n",
              "2      NaN   NaN   NaN  \n",
              "3      NaN   NaN   NaN  \n",
              "4      NaN   NaN   NaN  \n",
              "...    ...   ...   ...  \n",
              "1653   NaN   NaN   NaN  \n",
              "1654   NaN   NaN   NaN  \n",
              "1655   NaN   NaN   NaN  \n",
              "1656   NaN   NaN   NaN  \n",
              "1657   NaN   NaN   NaN  \n",
              "\n",
              "[1658 rows x 10 columns]"
            ],
            "text/html": [
              "\n",
              "  <div id=\"df-dc408c1a-4b7b-4e92-8bcc-96761d8e2cf9\">\n",
              "    <div class=\"colab-df-container\">\n",
              "      <div>\n",
              "<style scoped>\n",
              "    .dataframe tbody tr th:only-of-type {\n",
              "        vertical-align: middle;\n",
              "    }\n",
              "\n",
              "    .dataframe tbody tr th {\n",
              "        vertical-align: top;\n",
              "    }\n",
              "\n",
              "    .dataframe thead th {\n",
              "        text-align: right;\n",
              "    }\n",
              "</style>\n",
              "<table border=\"1\" class=\"dataframe\">\n",
              "  <thead>\n",
              "    <tr style=\"text-align: right;\">\n",
              "      <th></th>\n",
              "      <th>STATION</th>\n",
              "      <th>NAME</th>\n",
              "      <th>DATE</th>\n",
              "      <th>DAPR</th>\n",
              "      <th>MDPR</th>\n",
              "      <th>PRCP</th>\n",
              "      <th>SNOW</th>\n",
              "      <th>SNWD</th>\n",
              "      <th>WESD</th>\n",
              "      <th>WESF</th>\n",
              "    </tr>\n",
              "  </thead>\n",
              "  <tbody>\n",
              "    <tr>\n",
              "      <th>0</th>\n",
              "      <td>US1WAKG0225</td>\n",
              "      <td>SEATTLE 2.1 ESE, WA US</td>\n",
              "      <td>2018-01-01</td>\n",
              "      <td>NaN</td>\n",
              "      <td>NaN</td>\n",
              "      <td>0.00</td>\n",
              "      <td>NaN</td>\n",
              "      <td>NaN</td>\n",
              "      <td>NaN</td>\n",
              "      <td>NaN</td>\n",
              "    </tr>\n",
              "    <tr>\n",
              "      <th>1</th>\n",
              "      <td>US1WAKG0225</td>\n",
              "      <td>SEATTLE 2.1 ESE, WA US</td>\n",
              "      <td>2018-01-02</td>\n",
              "      <td>NaN</td>\n",
              "      <td>NaN</td>\n",
              "      <td>0.00</td>\n",
              "      <td>NaN</td>\n",
              "      <td>NaN</td>\n",
              "      <td>NaN</td>\n",
              "      <td>NaN</td>\n",
              "    </tr>\n",
              "    <tr>\n",
              "      <th>2</th>\n",
              "      <td>US1WAKG0225</td>\n",
              "      <td>SEATTLE 2.1 ESE, WA US</td>\n",
              "      <td>2018-01-03</td>\n",
              "      <td>NaN</td>\n",
              "      <td>NaN</td>\n",
              "      <td>0.00</td>\n",
              "      <td>NaN</td>\n",
              "      <td>NaN</td>\n",
              "      <td>NaN</td>\n",
              "      <td>NaN</td>\n",
              "    </tr>\n",
              "    <tr>\n",
              "      <th>3</th>\n",
              "      <td>US1WAKG0225</td>\n",
              "      <td>SEATTLE 2.1 ESE, WA US</td>\n",
              "      <td>2018-01-04</td>\n",
              "      <td>NaN</td>\n",
              "      <td>NaN</td>\n",
              "      <td>0.00</td>\n",
              "      <td>NaN</td>\n",
              "      <td>NaN</td>\n",
              "      <td>NaN</td>\n",
              "      <td>NaN</td>\n",
              "    </tr>\n",
              "    <tr>\n",
              "      <th>4</th>\n",
              "      <td>US1WAKG0225</td>\n",
              "      <td>SEATTLE 2.1 ESE, WA US</td>\n",
              "      <td>2018-01-05</td>\n",
              "      <td>NaN</td>\n",
              "      <td>NaN</td>\n",
              "      <td>0.25</td>\n",
              "      <td>NaN</td>\n",
              "      <td>NaN</td>\n",
              "      <td>NaN</td>\n",
              "      <td>NaN</td>\n",
              "    </tr>\n",
              "    <tr>\n",
              "      <th>...</th>\n",
              "      <td>...</td>\n",
              "      <td>...</td>\n",
              "      <td>...</td>\n",
              "      <td>...</td>\n",
              "      <td>...</td>\n",
              "      <td>...</td>\n",
              "      <td>...</td>\n",
              "      <td>...</td>\n",
              "      <td>...</td>\n",
              "      <td>...</td>\n",
              "    </tr>\n",
              "    <tr>\n",
              "      <th>1653</th>\n",
              "      <td>US1WAKG0225</td>\n",
              "      <td>SEATTLE 2.1 ESE, WA US</td>\n",
              "      <td>2022-12-27</td>\n",
              "      <td>NaN</td>\n",
              "      <td>NaN</td>\n",
              "      <td>0.78</td>\n",
              "      <td>NaN</td>\n",
              "      <td>NaN</td>\n",
              "      <td>NaN</td>\n",
              "      <td>NaN</td>\n",
              "    </tr>\n",
              "    <tr>\n",
              "      <th>1654</th>\n",
              "      <td>US1WAKG0225</td>\n",
              "      <td>SEATTLE 2.1 ESE, WA US</td>\n",
              "      <td>2022-12-28</td>\n",
              "      <td>NaN</td>\n",
              "      <td>NaN</td>\n",
              "      <td>0.40</td>\n",
              "      <td>NaN</td>\n",
              "      <td>NaN</td>\n",
              "      <td>NaN</td>\n",
              "      <td>NaN</td>\n",
              "    </tr>\n",
              "    <tr>\n",
              "      <th>1655</th>\n",
              "      <td>US1WAKG0225</td>\n",
              "      <td>SEATTLE 2.1 ESE, WA US</td>\n",
              "      <td>2022-12-29</td>\n",
              "      <td>NaN</td>\n",
              "      <td>NaN</td>\n",
              "      <td>0.03</td>\n",
              "      <td>NaN</td>\n",
              "      <td>NaN</td>\n",
              "      <td>NaN</td>\n",
              "      <td>NaN</td>\n",
              "    </tr>\n",
              "    <tr>\n",
              "      <th>1656</th>\n",
              "      <td>US1WAKG0225</td>\n",
              "      <td>SEATTLE 2.1 ESE, WA US</td>\n",
              "      <td>2022-12-30</td>\n",
              "      <td>NaN</td>\n",
              "      <td>NaN</td>\n",
              "      <td>0.62</td>\n",
              "      <td>NaN</td>\n",
              "      <td>NaN</td>\n",
              "      <td>NaN</td>\n",
              "      <td>NaN</td>\n",
              "    </tr>\n",
              "    <tr>\n",
              "      <th>1657</th>\n",
              "      <td>US1WAKG0225</td>\n",
              "      <td>SEATTLE 2.1 ESE, WA US</td>\n",
              "      <td>2022-12-31</td>\n",
              "      <td>NaN</td>\n",
              "      <td>NaN</td>\n",
              "      <td>0.17</td>\n",
              "      <td>NaN</td>\n",
              "      <td>NaN</td>\n",
              "      <td>NaN</td>\n",
              "      <td>NaN</td>\n",
              "    </tr>\n",
              "  </tbody>\n",
              "</table>\n",
              "<p>1658 rows × 10 columns</p>\n",
              "</div>\n",
              "      <button class=\"colab-df-convert\" onclick=\"convertToInteractive('df-dc408c1a-4b7b-4e92-8bcc-96761d8e2cf9')\"\n",
              "              title=\"Convert this dataframe to an interactive table.\"\n",
              "              style=\"display:none;\">\n",
              "        \n",
              "  <svg xmlns=\"http://www.w3.org/2000/svg\" height=\"24px\"viewBox=\"0 0 24 24\"\n",
              "       width=\"24px\">\n",
              "    <path d=\"M0 0h24v24H0V0z\" fill=\"none\"/>\n",
              "    <path d=\"M18.56 5.44l.94 2.06.94-2.06 2.06-.94-2.06-.94-.94-2.06-.94 2.06-2.06.94zm-11 1L8.5 8.5l.94-2.06 2.06-.94-2.06-.94L8.5 2.5l-.94 2.06-2.06.94zm10 10l.94 2.06.94-2.06 2.06-.94-2.06-.94-.94-2.06-.94 2.06-2.06.94z\"/><path d=\"M17.41 7.96l-1.37-1.37c-.4-.4-.92-.59-1.43-.59-.52 0-1.04.2-1.43.59L10.3 9.45l-7.72 7.72c-.78.78-.78 2.05 0 2.83L4 21.41c.39.39.9.59 1.41.59.51 0 1.02-.2 1.41-.59l7.78-7.78 2.81-2.81c.8-.78.8-2.07 0-2.86zM5.41 20L4 18.59l7.72-7.72 1.47 1.35L5.41 20z\"/>\n",
              "  </svg>\n",
              "      </button>\n",
              "      \n",
              "  <style>\n",
              "    .colab-df-container {\n",
              "      display:flex;\n",
              "      flex-wrap:wrap;\n",
              "      gap: 12px;\n",
              "    }\n",
              "\n",
              "    .colab-df-convert {\n",
              "      background-color: #E8F0FE;\n",
              "      border: none;\n",
              "      border-radius: 50%;\n",
              "      cursor: pointer;\n",
              "      display: none;\n",
              "      fill: #1967D2;\n",
              "      height: 32px;\n",
              "      padding: 0 0 0 0;\n",
              "      width: 32px;\n",
              "    }\n",
              "\n",
              "    .colab-df-convert:hover {\n",
              "      background-color: #E2EBFA;\n",
              "      box-shadow: 0px 1px 2px rgba(60, 64, 67, 0.3), 0px 1px 3px 1px rgba(60, 64, 67, 0.15);\n",
              "      fill: #174EA6;\n",
              "    }\n",
              "\n",
              "    [theme=dark] .colab-df-convert {\n",
              "      background-color: #3B4455;\n",
              "      fill: #D2E3FC;\n",
              "    }\n",
              "\n",
              "    [theme=dark] .colab-df-convert:hover {\n",
              "      background-color: #434B5C;\n",
              "      box-shadow: 0px 1px 3px 1px rgba(0, 0, 0, 0.15);\n",
              "      filter: drop-shadow(0px 1px 2px rgba(0, 0, 0, 0.3));\n",
              "      fill: #FFFFFF;\n",
              "    }\n",
              "  </style>\n",
              "\n",
              "      <script>\n",
              "        const buttonEl =\n",
              "          document.querySelector('#df-dc408c1a-4b7b-4e92-8bcc-96761d8e2cf9 button.colab-df-convert');\n",
              "        buttonEl.style.display =\n",
              "          google.colab.kernel.accessAllowed ? 'block' : 'none';\n",
              "\n",
              "        async function convertToInteractive(key) {\n",
              "          const element = document.querySelector('#df-dc408c1a-4b7b-4e92-8bcc-96761d8e2cf9');\n",
              "          const dataTable =\n",
              "            await google.colab.kernel.invokeFunction('convertToInteractive',\n",
              "                                                     [key], {});\n",
              "          if (!dataTable) return;\n",
              "\n",
              "          const docLinkHtml = 'Like what you see? Visit the ' +\n",
              "            '<a target=\"_blank\" href=https://colab.research.google.com/notebooks/data_table.ipynb>data table notebook</a>'\n",
              "            + ' to learn more about interactive tables.';\n",
              "          element.innerHTML = '';\n",
              "          dataTable['output_type'] = 'display_data';\n",
              "          await google.colab.output.renderOutput(dataTable, element);\n",
              "          const docLink = document.createElement('div');\n",
              "          docLink.innerHTML = docLinkHtml;\n",
              "          element.appendChild(docLink);\n",
              "        }\n",
              "      </script>\n",
              "    </div>\n",
              "  </div>\n",
              "  "
            ]
          },
          "metadata": {},
          "execution_count": 15
        }
      ]
    },
    {
      "cell_type": "markdown",
      "source": [
        "Here we can see that while the St. Louis data starts in 2017, the Seattle data doesn't start until 2018. We want to remove the 2017 data from the St. Louis dataframe so we are looking at comparable date. They both go into 2022 so we only need to scale the St. Louis data from one side."
      ],
      "metadata": {
        "id": "MjSMujxr9_Iv"
      }
    },
    {
      "cell_type": "code",
      "source": [
        "df_stlouis = df_stlouis.loc[df_stlouis['DATE'] >= '2018-01-01']\n",
        "df_stlouis"
      ],
      "metadata": {
        "colab": {
          "base_uri": "https://localhost:8080/",
          "height": 424
        },
        "id": "ZlD-vmSW-Liq",
        "outputId": "cee15fe6-4f39-48d4-803a-eeef3bfb7757"
      },
      "execution_count": 16,
      "outputs": [
        {
          "output_type": "execute_result",
          "data": {
            "text/plain": [
              "           STATION                       NAME       DATE  DAPR  MDPR  PRCP  \\\n",
              "241    US1MOSS0027  ST. CHARLES 2.3 NE, MO US 2018-01-05   NaN   NaN  0.00   \n",
              "242    US1MOSS0027  ST. CHARLES 2.3 NE, MO US 2018-01-08   NaN   NaN  0.24   \n",
              "243    US1MOSS0027  ST. CHARLES 2.3 NE, MO US 2018-01-10   NaN   NaN  0.00   \n",
              "244    US1MOSS0027  ST. CHARLES 2.3 NE, MO US 2018-01-11   NaN   NaN  0.02   \n",
              "245    US1MOSS0027  ST. CHARLES 2.3 NE, MO US 2018-01-15   NaN   NaN  0.05   \n",
              "...            ...                        ...        ...   ...   ...   ...   \n",
              "54569  US1MOSL0084   DES PERES 0.7 SSW, MO US 2022-12-08   NaN   NaN  0.00   \n",
              "54570  US1MOSL0084   DES PERES 0.7 SSW, MO US 2022-12-13   NaN   NaN  0.00   \n",
              "54571  US1MOSL0084   DES PERES 0.7 SSW, MO US 2022-12-14   NaN   NaN  0.89   \n",
              "54572  US1MOSL0084   DES PERES 0.7 SSW, MO US 2022-12-15   NaN   NaN  0.36   \n",
              "54573  US1MOSL0084   DES PERES 0.7 SSW, MO US 2022-12-16   NaN   NaN  0.00   \n",
              "\n",
              "       SNOW  SNWD  \n",
              "241     0.2   1.0  \n",
              "242     NaN   NaN  \n",
              "243     NaN   NaN  \n",
              "244     NaN   NaN  \n",
              "245     0.5   NaN  \n",
              "...     ...   ...  \n",
              "54569   NaN   NaN  \n",
              "54570   0.0   NaN  \n",
              "54571   NaN   NaN  \n",
              "54572   NaN   NaN  \n",
              "54573   0.0   NaN  \n",
              "\n",
              "[45775 rows x 8 columns]"
            ],
            "text/html": [
              "\n",
              "  <div id=\"df-00fcd1f9-5e1f-4be0-83ea-97046d304014\">\n",
              "    <div class=\"colab-df-container\">\n",
              "      <div>\n",
              "<style scoped>\n",
              "    .dataframe tbody tr th:only-of-type {\n",
              "        vertical-align: middle;\n",
              "    }\n",
              "\n",
              "    .dataframe tbody tr th {\n",
              "        vertical-align: top;\n",
              "    }\n",
              "\n",
              "    .dataframe thead th {\n",
              "        text-align: right;\n",
              "    }\n",
              "</style>\n",
              "<table border=\"1\" class=\"dataframe\">\n",
              "  <thead>\n",
              "    <tr style=\"text-align: right;\">\n",
              "      <th></th>\n",
              "      <th>STATION</th>\n",
              "      <th>NAME</th>\n",
              "      <th>DATE</th>\n",
              "      <th>DAPR</th>\n",
              "      <th>MDPR</th>\n",
              "      <th>PRCP</th>\n",
              "      <th>SNOW</th>\n",
              "      <th>SNWD</th>\n",
              "    </tr>\n",
              "  </thead>\n",
              "  <tbody>\n",
              "    <tr>\n",
              "      <th>241</th>\n",
              "      <td>US1MOSS0027</td>\n",
              "      <td>ST. CHARLES 2.3 NE, MO US</td>\n",
              "      <td>2018-01-05</td>\n",
              "      <td>NaN</td>\n",
              "      <td>NaN</td>\n",
              "      <td>0.00</td>\n",
              "      <td>0.2</td>\n",
              "      <td>1.0</td>\n",
              "    </tr>\n",
              "    <tr>\n",
              "      <th>242</th>\n",
              "      <td>US1MOSS0027</td>\n",
              "      <td>ST. CHARLES 2.3 NE, MO US</td>\n",
              "      <td>2018-01-08</td>\n",
              "      <td>NaN</td>\n",
              "      <td>NaN</td>\n",
              "      <td>0.24</td>\n",
              "      <td>NaN</td>\n",
              "      <td>NaN</td>\n",
              "    </tr>\n",
              "    <tr>\n",
              "      <th>243</th>\n",
              "      <td>US1MOSS0027</td>\n",
              "      <td>ST. CHARLES 2.3 NE, MO US</td>\n",
              "      <td>2018-01-10</td>\n",
              "      <td>NaN</td>\n",
              "      <td>NaN</td>\n",
              "      <td>0.00</td>\n",
              "      <td>NaN</td>\n",
              "      <td>NaN</td>\n",
              "    </tr>\n",
              "    <tr>\n",
              "      <th>244</th>\n",
              "      <td>US1MOSS0027</td>\n",
              "      <td>ST. CHARLES 2.3 NE, MO US</td>\n",
              "      <td>2018-01-11</td>\n",
              "      <td>NaN</td>\n",
              "      <td>NaN</td>\n",
              "      <td>0.02</td>\n",
              "      <td>NaN</td>\n",
              "      <td>NaN</td>\n",
              "    </tr>\n",
              "    <tr>\n",
              "      <th>245</th>\n",
              "      <td>US1MOSS0027</td>\n",
              "      <td>ST. CHARLES 2.3 NE, MO US</td>\n",
              "      <td>2018-01-15</td>\n",
              "      <td>NaN</td>\n",
              "      <td>NaN</td>\n",
              "      <td>0.05</td>\n",
              "      <td>0.5</td>\n",
              "      <td>NaN</td>\n",
              "    </tr>\n",
              "    <tr>\n",
              "      <th>...</th>\n",
              "      <td>...</td>\n",
              "      <td>...</td>\n",
              "      <td>...</td>\n",
              "      <td>...</td>\n",
              "      <td>...</td>\n",
              "      <td>...</td>\n",
              "      <td>...</td>\n",
              "      <td>...</td>\n",
              "    </tr>\n",
              "    <tr>\n",
              "      <th>54569</th>\n",
              "      <td>US1MOSL0084</td>\n",
              "      <td>DES PERES 0.7 SSW, MO US</td>\n",
              "      <td>2022-12-08</td>\n",
              "      <td>NaN</td>\n",
              "      <td>NaN</td>\n",
              "      <td>0.00</td>\n",
              "      <td>NaN</td>\n",
              "      <td>NaN</td>\n",
              "    </tr>\n",
              "    <tr>\n",
              "      <th>54570</th>\n",
              "      <td>US1MOSL0084</td>\n",
              "      <td>DES PERES 0.7 SSW, MO US</td>\n",
              "      <td>2022-12-13</td>\n",
              "      <td>NaN</td>\n",
              "      <td>NaN</td>\n",
              "      <td>0.00</td>\n",
              "      <td>0.0</td>\n",
              "      <td>NaN</td>\n",
              "    </tr>\n",
              "    <tr>\n",
              "      <th>54571</th>\n",
              "      <td>US1MOSL0084</td>\n",
              "      <td>DES PERES 0.7 SSW, MO US</td>\n",
              "      <td>2022-12-14</td>\n",
              "      <td>NaN</td>\n",
              "      <td>NaN</td>\n",
              "      <td>0.89</td>\n",
              "      <td>NaN</td>\n",
              "      <td>NaN</td>\n",
              "    </tr>\n",
              "    <tr>\n",
              "      <th>54572</th>\n",
              "      <td>US1MOSL0084</td>\n",
              "      <td>DES PERES 0.7 SSW, MO US</td>\n",
              "      <td>2022-12-15</td>\n",
              "      <td>NaN</td>\n",
              "      <td>NaN</td>\n",
              "      <td>0.36</td>\n",
              "      <td>NaN</td>\n",
              "      <td>NaN</td>\n",
              "    </tr>\n",
              "    <tr>\n",
              "      <th>54573</th>\n",
              "      <td>US1MOSL0084</td>\n",
              "      <td>DES PERES 0.7 SSW, MO US</td>\n",
              "      <td>2022-12-16</td>\n",
              "      <td>NaN</td>\n",
              "      <td>NaN</td>\n",
              "      <td>0.00</td>\n",
              "      <td>0.0</td>\n",
              "      <td>NaN</td>\n",
              "    </tr>\n",
              "  </tbody>\n",
              "</table>\n",
              "<p>45775 rows × 8 columns</p>\n",
              "</div>\n",
              "      <button class=\"colab-df-convert\" onclick=\"convertToInteractive('df-00fcd1f9-5e1f-4be0-83ea-97046d304014')\"\n",
              "              title=\"Convert this dataframe to an interactive table.\"\n",
              "              style=\"display:none;\">\n",
              "        \n",
              "  <svg xmlns=\"http://www.w3.org/2000/svg\" height=\"24px\"viewBox=\"0 0 24 24\"\n",
              "       width=\"24px\">\n",
              "    <path d=\"M0 0h24v24H0V0z\" fill=\"none\"/>\n",
              "    <path d=\"M18.56 5.44l.94 2.06.94-2.06 2.06-.94-2.06-.94-.94-2.06-.94 2.06-2.06.94zm-11 1L8.5 8.5l.94-2.06 2.06-.94-2.06-.94L8.5 2.5l-.94 2.06-2.06.94zm10 10l.94 2.06.94-2.06 2.06-.94-2.06-.94-.94-2.06-.94 2.06-2.06.94z\"/><path d=\"M17.41 7.96l-1.37-1.37c-.4-.4-.92-.59-1.43-.59-.52 0-1.04.2-1.43.59L10.3 9.45l-7.72 7.72c-.78.78-.78 2.05 0 2.83L4 21.41c.39.39.9.59 1.41.59.51 0 1.02-.2 1.41-.59l7.78-7.78 2.81-2.81c.8-.78.8-2.07 0-2.86zM5.41 20L4 18.59l7.72-7.72 1.47 1.35L5.41 20z\"/>\n",
              "  </svg>\n",
              "      </button>\n",
              "      \n",
              "  <style>\n",
              "    .colab-df-container {\n",
              "      display:flex;\n",
              "      flex-wrap:wrap;\n",
              "      gap: 12px;\n",
              "    }\n",
              "\n",
              "    .colab-df-convert {\n",
              "      background-color: #E8F0FE;\n",
              "      border: none;\n",
              "      border-radius: 50%;\n",
              "      cursor: pointer;\n",
              "      display: none;\n",
              "      fill: #1967D2;\n",
              "      height: 32px;\n",
              "      padding: 0 0 0 0;\n",
              "      width: 32px;\n",
              "    }\n",
              "\n",
              "    .colab-df-convert:hover {\n",
              "      background-color: #E2EBFA;\n",
              "      box-shadow: 0px 1px 2px rgba(60, 64, 67, 0.3), 0px 1px 3px 1px rgba(60, 64, 67, 0.15);\n",
              "      fill: #174EA6;\n",
              "    }\n",
              "\n",
              "    [theme=dark] .colab-df-convert {\n",
              "      background-color: #3B4455;\n",
              "      fill: #D2E3FC;\n",
              "    }\n",
              "\n",
              "    [theme=dark] .colab-df-convert:hover {\n",
              "      background-color: #434B5C;\n",
              "      box-shadow: 0px 1px 3px 1px rgba(0, 0, 0, 0.15);\n",
              "      filter: drop-shadow(0px 1px 2px rgba(0, 0, 0, 0.3));\n",
              "      fill: #FFFFFF;\n",
              "    }\n",
              "  </style>\n",
              "\n",
              "      <script>\n",
              "        const buttonEl =\n",
              "          document.querySelector('#df-00fcd1f9-5e1f-4be0-83ea-97046d304014 button.colab-df-convert');\n",
              "        buttonEl.style.display =\n",
              "          google.colab.kernel.accessAllowed ? 'block' : 'none';\n",
              "\n",
              "        async function convertToInteractive(key) {\n",
              "          const element = document.querySelector('#df-00fcd1f9-5e1f-4be0-83ea-97046d304014');\n",
              "          const dataTable =\n",
              "            await google.colab.kernel.invokeFunction('convertToInteractive',\n",
              "                                                     [key], {});\n",
              "          if (!dataTable) return;\n",
              "\n",
              "          const docLinkHtml = 'Like what you see? Visit the ' +\n",
              "            '<a target=\"_blank\" href=https://colab.research.google.com/notebooks/data_table.ipynb>data table notebook</a>'\n",
              "            + ' to learn more about interactive tables.';\n",
              "          element.innerHTML = '';\n",
              "          dataTable['output_type'] = 'display_data';\n",
              "          await google.colab.output.renderOutput(dataTable, element);\n",
              "          const docLink = document.createElement('div');\n",
              "          docLink.innerHTML = docLinkHtml;\n",
              "          element.appendChild(docLink);\n",
              "        }\n",
              "      </script>\n",
              "    </div>\n",
              "  </div>\n",
              "  "
            ]
          },
          "metadata": {},
          "execution_count": 16
        }
      ]
    },
    {
      "cell_type": "markdown",
      "source": [
        "Now the two data sets both contain data from 2018-2022"
      ],
      "metadata": {
        "id": "kN8DNQ-V-WF5"
      }
    },
    {
      "cell_type": "code",
      "source": [
        "df_stlouis['NAME'].unique()"
      ],
      "metadata": {
        "colab": {
          "base_uri": "https://localhost:8080/"
        },
        "id": "j5ShvZ6p-chb",
        "outputId": "ad9fa89b-1c92-41e3-84a0-f392c2d2e9b0"
      },
      "execution_count": 17,
      "outputs": [
        {
          "output_type": "execute_result",
          "data": {
            "text/plain": [
              "array(['ST. CHARLES 2.3 NE, MO US', 'MANCHESTER 1.4 SE, MO US',\n",
              "       'FLORISSANT 1.3 E, MO US', 'MAC KENZIE 0.3 ESE, MO US',\n",
              "       'BELLEVILLE 4.5 WNW, IL US', 'WEBSTER GROVES 1.6 NNE, MO US',\n",
              "       'ARNOLD 0.5 E, MO US', 'MAPLEWOOD 1.3 SE CLOSED, MO US',\n",
              "       'GLENDALE 0.4 S, MO US', 'MARYLAND HEIGHTS 1.2 ESE, MO US',\n",
              "       'FLORISSANT 2.5 NE, MO US', 'KIRKWOOD 1.0 NNW, MO US',\n",
              "       'GRANITE CITY 2.7 NE, IL US', 'OAKVILLE 2.5 NW, MO US',\n",
              "       'GLENDALE 0.3 NE, MO US', 'ST. LOUIS 5.7 SW, MO US',\n",
              "       'EDMUNDSON 0.7 NNW, MO US', 'BALLWIN 0.5 NNW, MO US',\n",
              "       'BALLWIN 1.6 E, MO US', 'KIRKWOOD 1.6 S, MO US',\n",
              "       'ST CHARLES ELM POINT, MO US', 'ST LOUIS SCIENCE CENTER, MO US',\n",
              "       'ST CHARLES 7 SSW, MO US', 'FAIRMONT CITY 0.9 ENE, IL US',\n",
              "       'CAHOKIA ST LOUIS DOWNTOWN AIRPORT, IL US',\n",
              "       'GLENDALE 0.6 WSW, MO US', 'COLUMBIA 0.4 S, IL US',\n",
              "       'CLAYTON 1.2 NW, MO US', 'FENTON 4.1 S, MO US',\n",
              "       'ST. CHARLES 2.6 S, MO US', 'GRANITE CITY 1.4 ENE, IL US',\n",
              "       'FLORISSANT 2.9 W, MO US', 'CRESTWOOD 0.4 NW, MO US',\n",
              "       'MANCHESTER 2.0 S, MO US', 'LADUE 1.6 N, MO US',\n",
              "       'GRANITE CITY 2.3 NE, IL US', 'CONCORD 0.7 W, MO US',\n",
              "       'ST LOUIS LAMBERT INTERNATIONAL AIRPORT, MO US',\n",
              "       'CONCORD 1.0 SSW, MO US', 'DES PERES 0.7 SSW, MO US'], dtype=object)"
            ]
          },
          "metadata": {},
          "execution_count": 17
        }
      ]
    },
    {
      "cell_type": "code",
      "source": [
        "df_seattle['NAME'].unique()"
      ],
      "metadata": {
        "colab": {
          "base_uri": "https://localhost:8080/"
        },
        "id": "7yeC-8Xz-iLu",
        "outputId": "01f51b3b-4a6d-4fb6-ce5d-6336cf725782"
      },
      "execution_count": 18,
      "outputs": [
        {
          "output_type": "execute_result",
          "data": {
            "text/plain": [
              "array(['SEATTLE 2.1 ESE, WA US'], dtype=object)"
            ]
          },
          "metadata": {},
          "execution_count": 18
        }
      ]
    },
    {
      "cell_type": "markdown",
      "source": [
        "Here we can see that while the St. Louis df has many stations, the Seattle df has only one. So we want to scale back the St. Louis df again so that we are only looking at one station there as well. We have chosen to look at the station that is located at the airport."
      ],
      "metadata": {
        "id": "e8WxOlh1-kMH"
      }
    },
    {
      "cell_type": "code",
      "source": [
        "df_stlouis = df_stlouis.loc[df_stlouis['NAME'] == 'ST LOUIS LAMBERT INTERNATIONAL AIRPORT, MO US']\n",
        "df_stlouis"
      ],
      "metadata": {
        "colab": {
          "base_uri": "https://localhost:8080/",
          "height": 424
        },
        "id": "RpBP8LiN-wVU",
        "outputId": "0c4d1bdd-08ff-4655-bed1-eb343aae2fd8"
      },
      "execution_count": 19,
      "outputs": [
        {
          "output_type": "execute_result",
          "data": {
            "text/plain": [
              "           STATION                                           NAME       DATE  \\\n",
              "51540  USW00013994  ST LOUIS LAMBERT INTERNATIONAL AIRPORT, MO US 2018-01-01   \n",
              "51541  USW00013994  ST LOUIS LAMBERT INTERNATIONAL AIRPORT, MO US 2018-01-02   \n",
              "51542  USW00013994  ST LOUIS LAMBERT INTERNATIONAL AIRPORT, MO US 2018-01-03   \n",
              "51543  USW00013994  ST LOUIS LAMBERT INTERNATIONAL AIRPORT, MO US 2018-01-04   \n",
              "51544  USW00013994  ST LOUIS LAMBERT INTERNATIONAL AIRPORT, MO US 2018-01-05   \n",
              "...            ...                                            ...        ...   \n",
              "53361  USW00013994  ST LOUIS LAMBERT INTERNATIONAL AIRPORT, MO US 2022-12-27   \n",
              "53362  USW00013994  ST LOUIS LAMBERT INTERNATIONAL AIRPORT, MO US 2022-12-28   \n",
              "53363  USW00013994  ST LOUIS LAMBERT INTERNATIONAL AIRPORT, MO US 2022-12-29   \n",
              "53364  USW00013994  ST LOUIS LAMBERT INTERNATIONAL AIRPORT, MO US 2022-12-30   \n",
              "53365  USW00013994  ST LOUIS LAMBERT INTERNATIONAL AIRPORT, MO US 2022-12-31   \n",
              "\n",
              "       DAPR  MDPR  PRCP  SNOW  SNWD  \n",
              "51540   NaN   NaN  0.00   0.0   0.0  \n",
              "51541   NaN   NaN  0.00   0.0   0.0  \n",
              "51542   NaN   NaN  0.00   0.0   0.0  \n",
              "51543   NaN   NaN  0.00   0.2   0.0  \n",
              "51544   NaN   NaN  0.00   0.0   0.0  \n",
              "...     ...   ...   ...   ...   ...  \n",
              "53361   NaN   NaN  0.00   0.0   1.0  \n",
              "53362   NaN   NaN  0.00   0.0   1.0  \n",
              "53363   NaN   NaN  0.00   0.0   0.0  \n",
              "53364   NaN   NaN  0.31   0.0   0.0  \n",
              "53365   NaN   NaN  0.00   0.0   0.0  \n",
              "\n",
              "[1826 rows x 8 columns]"
            ],
            "text/html": [
              "\n",
              "  <div id=\"df-d9c7e6fa-bcff-4c8f-bbbf-f8cc54c19806\">\n",
              "    <div class=\"colab-df-container\">\n",
              "      <div>\n",
              "<style scoped>\n",
              "    .dataframe tbody tr th:only-of-type {\n",
              "        vertical-align: middle;\n",
              "    }\n",
              "\n",
              "    .dataframe tbody tr th {\n",
              "        vertical-align: top;\n",
              "    }\n",
              "\n",
              "    .dataframe thead th {\n",
              "        text-align: right;\n",
              "    }\n",
              "</style>\n",
              "<table border=\"1\" class=\"dataframe\">\n",
              "  <thead>\n",
              "    <tr style=\"text-align: right;\">\n",
              "      <th></th>\n",
              "      <th>STATION</th>\n",
              "      <th>NAME</th>\n",
              "      <th>DATE</th>\n",
              "      <th>DAPR</th>\n",
              "      <th>MDPR</th>\n",
              "      <th>PRCP</th>\n",
              "      <th>SNOW</th>\n",
              "      <th>SNWD</th>\n",
              "    </tr>\n",
              "  </thead>\n",
              "  <tbody>\n",
              "    <tr>\n",
              "      <th>51540</th>\n",
              "      <td>USW00013994</td>\n",
              "      <td>ST LOUIS LAMBERT INTERNATIONAL AIRPORT, MO US</td>\n",
              "      <td>2018-01-01</td>\n",
              "      <td>NaN</td>\n",
              "      <td>NaN</td>\n",
              "      <td>0.00</td>\n",
              "      <td>0.0</td>\n",
              "      <td>0.0</td>\n",
              "    </tr>\n",
              "    <tr>\n",
              "      <th>51541</th>\n",
              "      <td>USW00013994</td>\n",
              "      <td>ST LOUIS LAMBERT INTERNATIONAL AIRPORT, MO US</td>\n",
              "      <td>2018-01-02</td>\n",
              "      <td>NaN</td>\n",
              "      <td>NaN</td>\n",
              "      <td>0.00</td>\n",
              "      <td>0.0</td>\n",
              "      <td>0.0</td>\n",
              "    </tr>\n",
              "    <tr>\n",
              "      <th>51542</th>\n",
              "      <td>USW00013994</td>\n",
              "      <td>ST LOUIS LAMBERT INTERNATIONAL AIRPORT, MO US</td>\n",
              "      <td>2018-01-03</td>\n",
              "      <td>NaN</td>\n",
              "      <td>NaN</td>\n",
              "      <td>0.00</td>\n",
              "      <td>0.0</td>\n",
              "      <td>0.0</td>\n",
              "    </tr>\n",
              "    <tr>\n",
              "      <th>51543</th>\n",
              "      <td>USW00013994</td>\n",
              "      <td>ST LOUIS LAMBERT INTERNATIONAL AIRPORT, MO US</td>\n",
              "      <td>2018-01-04</td>\n",
              "      <td>NaN</td>\n",
              "      <td>NaN</td>\n",
              "      <td>0.00</td>\n",
              "      <td>0.2</td>\n",
              "      <td>0.0</td>\n",
              "    </tr>\n",
              "    <tr>\n",
              "      <th>51544</th>\n",
              "      <td>USW00013994</td>\n",
              "      <td>ST LOUIS LAMBERT INTERNATIONAL AIRPORT, MO US</td>\n",
              "      <td>2018-01-05</td>\n",
              "      <td>NaN</td>\n",
              "      <td>NaN</td>\n",
              "      <td>0.00</td>\n",
              "      <td>0.0</td>\n",
              "      <td>0.0</td>\n",
              "    </tr>\n",
              "    <tr>\n",
              "      <th>...</th>\n",
              "      <td>...</td>\n",
              "      <td>...</td>\n",
              "      <td>...</td>\n",
              "      <td>...</td>\n",
              "      <td>...</td>\n",
              "      <td>...</td>\n",
              "      <td>...</td>\n",
              "      <td>...</td>\n",
              "    </tr>\n",
              "    <tr>\n",
              "      <th>53361</th>\n",
              "      <td>USW00013994</td>\n",
              "      <td>ST LOUIS LAMBERT INTERNATIONAL AIRPORT, MO US</td>\n",
              "      <td>2022-12-27</td>\n",
              "      <td>NaN</td>\n",
              "      <td>NaN</td>\n",
              "      <td>0.00</td>\n",
              "      <td>0.0</td>\n",
              "      <td>1.0</td>\n",
              "    </tr>\n",
              "    <tr>\n",
              "      <th>53362</th>\n",
              "      <td>USW00013994</td>\n",
              "      <td>ST LOUIS LAMBERT INTERNATIONAL AIRPORT, MO US</td>\n",
              "      <td>2022-12-28</td>\n",
              "      <td>NaN</td>\n",
              "      <td>NaN</td>\n",
              "      <td>0.00</td>\n",
              "      <td>0.0</td>\n",
              "      <td>1.0</td>\n",
              "    </tr>\n",
              "    <tr>\n",
              "      <th>53363</th>\n",
              "      <td>USW00013994</td>\n",
              "      <td>ST LOUIS LAMBERT INTERNATIONAL AIRPORT, MO US</td>\n",
              "      <td>2022-12-29</td>\n",
              "      <td>NaN</td>\n",
              "      <td>NaN</td>\n",
              "      <td>0.00</td>\n",
              "      <td>0.0</td>\n",
              "      <td>0.0</td>\n",
              "    </tr>\n",
              "    <tr>\n",
              "      <th>53364</th>\n",
              "      <td>USW00013994</td>\n",
              "      <td>ST LOUIS LAMBERT INTERNATIONAL AIRPORT, MO US</td>\n",
              "      <td>2022-12-30</td>\n",
              "      <td>NaN</td>\n",
              "      <td>NaN</td>\n",
              "      <td>0.31</td>\n",
              "      <td>0.0</td>\n",
              "      <td>0.0</td>\n",
              "    </tr>\n",
              "    <tr>\n",
              "      <th>53365</th>\n",
              "      <td>USW00013994</td>\n",
              "      <td>ST LOUIS LAMBERT INTERNATIONAL AIRPORT, MO US</td>\n",
              "      <td>2022-12-31</td>\n",
              "      <td>NaN</td>\n",
              "      <td>NaN</td>\n",
              "      <td>0.00</td>\n",
              "      <td>0.0</td>\n",
              "      <td>0.0</td>\n",
              "    </tr>\n",
              "  </tbody>\n",
              "</table>\n",
              "<p>1826 rows × 8 columns</p>\n",
              "</div>\n",
              "      <button class=\"colab-df-convert\" onclick=\"convertToInteractive('df-d9c7e6fa-bcff-4c8f-bbbf-f8cc54c19806')\"\n",
              "              title=\"Convert this dataframe to an interactive table.\"\n",
              "              style=\"display:none;\">\n",
              "        \n",
              "  <svg xmlns=\"http://www.w3.org/2000/svg\" height=\"24px\"viewBox=\"0 0 24 24\"\n",
              "       width=\"24px\">\n",
              "    <path d=\"M0 0h24v24H0V0z\" fill=\"none\"/>\n",
              "    <path d=\"M18.56 5.44l.94 2.06.94-2.06 2.06-.94-2.06-.94-.94-2.06-.94 2.06-2.06.94zm-11 1L8.5 8.5l.94-2.06 2.06-.94-2.06-.94L8.5 2.5l-.94 2.06-2.06.94zm10 10l.94 2.06.94-2.06 2.06-.94-2.06-.94-.94-2.06-.94 2.06-2.06.94z\"/><path d=\"M17.41 7.96l-1.37-1.37c-.4-.4-.92-.59-1.43-.59-.52 0-1.04.2-1.43.59L10.3 9.45l-7.72 7.72c-.78.78-.78 2.05 0 2.83L4 21.41c.39.39.9.59 1.41.59.51 0 1.02-.2 1.41-.59l7.78-7.78 2.81-2.81c.8-.78.8-2.07 0-2.86zM5.41 20L4 18.59l7.72-7.72 1.47 1.35L5.41 20z\"/>\n",
              "  </svg>\n",
              "      </button>\n",
              "      \n",
              "  <style>\n",
              "    .colab-df-container {\n",
              "      display:flex;\n",
              "      flex-wrap:wrap;\n",
              "      gap: 12px;\n",
              "    }\n",
              "\n",
              "    .colab-df-convert {\n",
              "      background-color: #E8F0FE;\n",
              "      border: none;\n",
              "      border-radius: 50%;\n",
              "      cursor: pointer;\n",
              "      display: none;\n",
              "      fill: #1967D2;\n",
              "      height: 32px;\n",
              "      padding: 0 0 0 0;\n",
              "      width: 32px;\n",
              "    }\n",
              "\n",
              "    .colab-df-convert:hover {\n",
              "      background-color: #E2EBFA;\n",
              "      box-shadow: 0px 1px 2px rgba(60, 64, 67, 0.3), 0px 1px 3px 1px rgba(60, 64, 67, 0.15);\n",
              "      fill: #174EA6;\n",
              "    }\n",
              "\n",
              "    [theme=dark] .colab-df-convert {\n",
              "      background-color: #3B4455;\n",
              "      fill: #D2E3FC;\n",
              "    }\n",
              "\n",
              "    [theme=dark] .colab-df-convert:hover {\n",
              "      background-color: #434B5C;\n",
              "      box-shadow: 0px 1px 3px 1px rgba(0, 0, 0, 0.15);\n",
              "      filter: drop-shadow(0px 1px 2px rgba(0, 0, 0, 0.3));\n",
              "      fill: #FFFFFF;\n",
              "    }\n",
              "  </style>\n",
              "\n",
              "      <script>\n",
              "        const buttonEl =\n",
              "          document.querySelector('#df-d9c7e6fa-bcff-4c8f-bbbf-f8cc54c19806 button.colab-df-convert');\n",
              "        buttonEl.style.display =\n",
              "          google.colab.kernel.accessAllowed ? 'block' : 'none';\n",
              "\n",
              "        async function convertToInteractive(key) {\n",
              "          const element = document.querySelector('#df-d9c7e6fa-bcff-4c8f-bbbf-f8cc54c19806');\n",
              "          const dataTable =\n",
              "            await google.colab.kernel.invokeFunction('convertToInteractive',\n",
              "                                                     [key], {});\n",
              "          if (!dataTable) return;\n",
              "\n",
              "          const docLinkHtml = 'Like what you see? Visit the ' +\n",
              "            '<a target=\"_blank\" href=https://colab.research.google.com/notebooks/data_table.ipynb>data table notebook</a>'\n",
              "            + ' to learn more about interactive tables.';\n",
              "          element.innerHTML = '';\n",
              "          dataTable['output_type'] = 'display_data';\n",
              "          await google.colab.output.renderOutput(dataTable, element);\n",
              "          const docLink = document.createElement('div');\n",
              "          docLink.innerHTML = docLinkHtml;\n",
              "          element.appendChild(docLink);\n",
              "        }\n",
              "      </script>\n",
              "    </div>\n",
              "  </div>\n",
              "  "
            ]
          },
          "metadata": {},
          "execution_count": 19
        }
      ]
    },
    {
      "cell_type": "markdown",
      "source": [
        "Now both dataframes contain data from one station and one station only, with matching observation time frames of 2018-2022"
      ],
      "metadata": {
        "id": "ttyJ3XzZ--XX"
      }
    },
    {
      "cell_type": "markdown",
      "source": [
        "##e. Identify missing values in the data sets. Impute or remove NaN values, as appropriate."
      ],
      "metadata": {
        "id": "f8keCuNG_IIn"
      }
    },
    {
      "cell_type": "code",
      "source": [
        "df_stlouis.isna().sum()"
      ],
      "metadata": {
        "colab": {
          "base_uri": "https://localhost:8080/"
        },
        "id": "hWXZN19o_Ojm",
        "outputId": "f3a7bdab-f0f5-46b5-fc54-b81e1389842b"
      },
      "execution_count": 20,
      "outputs": [
        {
          "output_type": "execute_result",
          "data": {
            "text/plain": [
              "STATION       0\n",
              "NAME          0\n",
              "DATE          0\n",
              "DAPR       1826\n",
              "MDPR       1826\n",
              "PRCP          0\n",
              "SNOW          0\n",
              "SNWD          0\n",
              "dtype: int64"
            ]
          },
          "metadata": {},
          "execution_count": 20
        }
      ]
    },
    {
      "cell_type": "markdown",
      "source": [
        "We can see that there are 0 NaN 'DATE' or 'PRCP' observations for the St. Louis df"
      ],
      "metadata": {
        "id": "QlNUWOnq_XS8"
      }
    },
    {
      "cell_type": "code",
      "source": [
        "df_seattle.isna().sum()"
      ],
      "metadata": {
        "colab": {
          "base_uri": "https://localhost:8080/"
        },
        "id": "CR344MYI_QqV",
        "outputId": "d17acd4f-a953-423e-d9ea-4e15cc83ce58"
      },
      "execution_count": 21,
      "outputs": [
        {
          "output_type": "execute_result",
          "data": {
            "text/plain": [
              "STATION       0\n",
              "NAME          0\n",
              "DATE          0\n",
              "DAPR       1635\n",
              "MDPR       1635\n",
              "PRCP         22\n",
              "SNOW       1305\n",
              "SNWD       1592\n",
              "WESD       1643\n",
              "WESF       1630\n",
              "dtype: int64"
            ]
          },
          "metadata": {},
          "execution_count": 21
        }
      ]
    },
    {
      "cell_type": "markdown",
      "source": [
        "And here we see that there are 0 NaN 'DATE' observations but 22 NaN 'PRCP' observations for the Seattle df"
      ],
      "metadata": {
        "id": "PupM2HH2_gqZ"
      }
    },
    {
      "cell_type": "markdown",
      "source": [
        "How many data points should we have from 2018 to 2022? <br>\n",
        "5 X 365 + 1 = 1826 \n",
        "<br> (+1 to account for the one leap year that occurred)"
      ],
      "metadata": {
        "id": "mOhCEoMI_qR1"
      }
    },
    {
      "cell_type": "code",
      "source": [
        "df_stlouis.info()"
      ],
      "metadata": {
        "colab": {
          "base_uri": "https://localhost:8080/"
        },
        "id": "Fe4mDJJ1_nMz",
        "outputId": "49a82d0e-8e0f-4106-9b3a-fe92115f74fd"
      },
      "execution_count": 22,
      "outputs": [
        {
          "output_type": "stream",
          "name": "stdout",
          "text": [
            "<class 'pandas.core.frame.DataFrame'>\n",
            "Int64Index: 1826 entries, 51540 to 53365\n",
            "Data columns (total 8 columns):\n",
            " #   Column   Non-Null Count  Dtype         \n",
            "---  ------   --------------  -----         \n",
            " 0   STATION  1826 non-null   object        \n",
            " 1   NAME     1826 non-null   object        \n",
            " 2   DATE     1826 non-null   datetime64[ns]\n",
            " 3   DAPR     0 non-null      float64       \n",
            " 4   MDPR     0 non-null      float64       \n",
            " 5   PRCP     1826 non-null   float64       \n",
            " 6   SNOW     1826 non-null   float64       \n",
            " 7   SNWD     1826 non-null   float64       \n",
            "dtypes: datetime64[ns](1), float64(5), object(2)\n",
            "memory usage: 128.4+ KB\n"
          ]
        }
      ]
    },
    {
      "cell_type": "markdown",
      "source": [
        "The St. Louis df has the correct 1826 observations within the five year span"
      ],
      "metadata": {
        "id": "h1bmJnxU_3Y6"
      }
    },
    {
      "cell_type": "code",
      "source": [
        "df_seattle.info()"
      ],
      "metadata": {
        "colab": {
          "base_uri": "https://localhost:8080/"
        },
        "id": "mT2grKtB_9J0",
        "outputId": "906dbea6-0554-4e8f-cc71-d99b6af980c1"
      },
      "execution_count": 23,
      "outputs": [
        {
          "output_type": "stream",
          "name": "stdout",
          "text": [
            "<class 'pandas.core.frame.DataFrame'>\n",
            "RangeIndex: 1658 entries, 0 to 1657\n",
            "Data columns (total 10 columns):\n",
            " #   Column   Non-Null Count  Dtype         \n",
            "---  ------   --------------  -----         \n",
            " 0   STATION  1658 non-null   object        \n",
            " 1   NAME     1658 non-null   object        \n",
            " 2   DATE     1658 non-null   datetime64[ns]\n",
            " 3   DAPR     23 non-null     float64       \n",
            " 4   MDPR     23 non-null     float64       \n",
            " 5   PRCP     1636 non-null   float64       \n",
            " 6   SNOW     353 non-null    float64       \n",
            " 7   SNWD     66 non-null     float64       \n",
            " 8   WESD     15 non-null     float64       \n",
            " 9   WESF     28 non-null     float64       \n",
            "dtypes: datetime64[ns](1), float64(7), object(2)\n",
            "memory usage: 129.7+ KB\n"
          ]
        }
      ]
    },
    {
      "cell_type": "markdown",
      "source": [
        "The Seattle df falls short of the 1826 observations, with only 1658."
      ],
      "metadata": {
        "id": "lb50fVlW__SI"
      }
    },
    {
      "cell_type": "markdown",
      "source": [
        "We want to fill in the missing values and plan to do so by creating an average of the amount of precipitation from that same day throughout the other 4 years."
      ],
      "metadata": {
        "id": "-4jmbci0IScZ"
      }
    },
    {
      "cell_type": "markdown",
      "source": [
        "## Join data frames keeping `DATE` and `PRCP` columns"
      ],
      "metadata": {
        "id": "KPpFNDAnIDKF"
      }
    },
    {
      "cell_type": "markdown",
      "source": [
        "The St. Louis df has more observations so we want to make sure that every observation stays, and we add all the observations from the Seattle df that match up with existing St. Louis observations. We perform a left join to achieve this."
      ],
      "metadata": {
        "id": "BpaEyZbJJWCB"
      }
    },
    {
      "cell_type": "code",
      "source": [
        "df = df_stlouis[['DATE', 'PRCP']].merge(df_seattle[['DATE', 'PRCP']], on='DATE', how='left')\n",
        "df.head()"
      ],
      "metadata": {
        "colab": {
          "base_uri": "https://localhost:8080/",
          "height": 206
        },
        "id": "DuTsTgpOI22x",
        "outputId": "518f77b0-d4a9-4955-d2e3-346ce4c776a3"
      },
      "execution_count": 24,
      "outputs": [
        {
          "output_type": "execute_result",
          "data": {
            "text/plain": [
              "        DATE  PRCP_x  PRCP_y\n",
              "0 2018-01-01     0.0    0.00\n",
              "1 2018-01-02     0.0    0.00\n",
              "2 2018-01-03     0.0    0.00\n",
              "3 2018-01-04     0.0    0.00\n",
              "4 2018-01-05     0.0    0.25"
            ],
            "text/html": [
              "\n",
              "  <div id=\"df-086ddd0e-8c85-4c38-ac24-157d1fae69d3\">\n",
              "    <div class=\"colab-df-container\">\n",
              "      <div>\n",
              "<style scoped>\n",
              "    .dataframe tbody tr th:only-of-type {\n",
              "        vertical-align: middle;\n",
              "    }\n",
              "\n",
              "    .dataframe tbody tr th {\n",
              "        vertical-align: top;\n",
              "    }\n",
              "\n",
              "    .dataframe thead th {\n",
              "        text-align: right;\n",
              "    }\n",
              "</style>\n",
              "<table border=\"1\" class=\"dataframe\">\n",
              "  <thead>\n",
              "    <tr style=\"text-align: right;\">\n",
              "      <th></th>\n",
              "      <th>DATE</th>\n",
              "      <th>PRCP_x</th>\n",
              "      <th>PRCP_y</th>\n",
              "    </tr>\n",
              "  </thead>\n",
              "  <tbody>\n",
              "    <tr>\n",
              "      <th>0</th>\n",
              "      <td>2018-01-01</td>\n",
              "      <td>0.0</td>\n",
              "      <td>0.00</td>\n",
              "    </tr>\n",
              "    <tr>\n",
              "      <th>1</th>\n",
              "      <td>2018-01-02</td>\n",
              "      <td>0.0</td>\n",
              "      <td>0.00</td>\n",
              "    </tr>\n",
              "    <tr>\n",
              "      <th>2</th>\n",
              "      <td>2018-01-03</td>\n",
              "      <td>0.0</td>\n",
              "      <td>0.00</td>\n",
              "    </tr>\n",
              "    <tr>\n",
              "      <th>3</th>\n",
              "      <td>2018-01-04</td>\n",
              "      <td>0.0</td>\n",
              "      <td>0.00</td>\n",
              "    </tr>\n",
              "    <tr>\n",
              "      <th>4</th>\n",
              "      <td>2018-01-05</td>\n",
              "      <td>0.0</td>\n",
              "      <td>0.25</td>\n",
              "    </tr>\n",
              "  </tbody>\n",
              "</table>\n",
              "</div>\n",
              "      <button class=\"colab-df-convert\" onclick=\"convertToInteractive('df-086ddd0e-8c85-4c38-ac24-157d1fae69d3')\"\n",
              "              title=\"Convert this dataframe to an interactive table.\"\n",
              "              style=\"display:none;\">\n",
              "        \n",
              "  <svg xmlns=\"http://www.w3.org/2000/svg\" height=\"24px\"viewBox=\"0 0 24 24\"\n",
              "       width=\"24px\">\n",
              "    <path d=\"M0 0h24v24H0V0z\" fill=\"none\"/>\n",
              "    <path d=\"M18.56 5.44l.94 2.06.94-2.06 2.06-.94-2.06-.94-.94-2.06-.94 2.06-2.06.94zm-11 1L8.5 8.5l.94-2.06 2.06-.94-2.06-.94L8.5 2.5l-.94 2.06-2.06.94zm10 10l.94 2.06.94-2.06 2.06-.94-2.06-.94-.94-2.06-.94 2.06-2.06.94z\"/><path d=\"M17.41 7.96l-1.37-1.37c-.4-.4-.92-.59-1.43-.59-.52 0-1.04.2-1.43.59L10.3 9.45l-7.72 7.72c-.78.78-.78 2.05 0 2.83L4 21.41c.39.39.9.59 1.41.59.51 0 1.02-.2 1.41-.59l7.78-7.78 2.81-2.81c.8-.78.8-2.07 0-2.86zM5.41 20L4 18.59l7.72-7.72 1.47 1.35L5.41 20z\"/>\n",
              "  </svg>\n",
              "      </button>\n",
              "      \n",
              "  <style>\n",
              "    .colab-df-container {\n",
              "      display:flex;\n",
              "      flex-wrap:wrap;\n",
              "      gap: 12px;\n",
              "    }\n",
              "\n",
              "    .colab-df-convert {\n",
              "      background-color: #E8F0FE;\n",
              "      border: none;\n",
              "      border-radius: 50%;\n",
              "      cursor: pointer;\n",
              "      display: none;\n",
              "      fill: #1967D2;\n",
              "      height: 32px;\n",
              "      padding: 0 0 0 0;\n",
              "      width: 32px;\n",
              "    }\n",
              "\n",
              "    .colab-df-convert:hover {\n",
              "      background-color: #E2EBFA;\n",
              "      box-shadow: 0px 1px 2px rgba(60, 64, 67, 0.3), 0px 1px 3px 1px rgba(60, 64, 67, 0.15);\n",
              "      fill: #174EA6;\n",
              "    }\n",
              "\n",
              "    [theme=dark] .colab-df-convert {\n",
              "      background-color: #3B4455;\n",
              "      fill: #D2E3FC;\n",
              "    }\n",
              "\n",
              "    [theme=dark] .colab-df-convert:hover {\n",
              "      background-color: #434B5C;\n",
              "      box-shadow: 0px 1px 3px 1px rgba(0, 0, 0, 0.15);\n",
              "      filter: drop-shadow(0px 1px 2px rgba(0, 0, 0, 0.3));\n",
              "      fill: #FFFFFF;\n",
              "    }\n",
              "  </style>\n",
              "\n",
              "      <script>\n",
              "        const buttonEl =\n",
              "          document.querySelector('#df-086ddd0e-8c85-4c38-ac24-157d1fae69d3 button.colab-df-convert');\n",
              "        buttonEl.style.display =\n",
              "          google.colab.kernel.accessAllowed ? 'block' : 'none';\n",
              "\n",
              "        async function convertToInteractive(key) {\n",
              "          const element = document.querySelector('#df-086ddd0e-8c85-4c38-ac24-157d1fae69d3');\n",
              "          const dataTable =\n",
              "            await google.colab.kernel.invokeFunction('convertToInteractive',\n",
              "                                                     [key], {});\n",
              "          if (!dataTable) return;\n",
              "\n",
              "          const docLinkHtml = 'Like what you see? Visit the ' +\n",
              "            '<a target=\"_blank\" href=https://colab.research.google.com/notebooks/data_table.ipynb>data table notebook</a>'\n",
              "            + ' to learn more about interactive tables.';\n",
              "          element.innerHTML = '';\n",
              "          dataTable['output_type'] = 'display_data';\n",
              "          await google.colab.output.renderOutput(dataTable, element);\n",
              "          const docLink = document.createElement('div');\n",
              "          docLink.innerHTML = docLinkHtml;\n",
              "          element.appendChild(docLink);\n",
              "        }\n",
              "      </script>\n",
              "    </div>\n",
              "  </div>\n",
              "  "
            ]
          },
          "metadata": {},
          "execution_count": 24
        }
      ]
    },
    {
      "cell_type": "markdown",
      "source": [
        "The melt function will allow us to specifiy which city the observation came from"
      ],
      "metadata": {
        "id": "xmHBaqqyJzqM"
      }
    },
    {
      "cell_type": "code",
      "source": [
        "df.tidy = pd.melt(df, id_vars = 'DATE', var_name = 'CITY', value_name = 'PRCP')\n",
        "df.tidy.head()"
      ],
      "metadata": {
        "colab": {
          "base_uri": "https://localhost:8080/",
          "height": 262
        },
        "id": "jbuYwqnMI-9_",
        "outputId": "bedb779f-deca-468f-f41e-fe3a14a233d4"
      },
      "execution_count": 25,
      "outputs": [
        {
          "output_type": "stream",
          "name": "stderr",
          "text": [
            "<ipython-input-25-90c99e4858ee>:1: UserWarning: Pandas doesn't allow columns to be created via a new attribute name - see https://pandas.pydata.org/pandas-docs/stable/indexing.html#attribute-access\n",
            "  df.tidy = pd.melt(df, id_vars = 'DATE', var_name = 'CITY', value_name = 'PRCP')\n"
          ]
        },
        {
          "output_type": "execute_result",
          "data": {
            "text/plain": [
              "        DATE    CITY  PRCP\n",
              "0 2018-01-01  PRCP_x   0.0\n",
              "1 2018-01-02  PRCP_x   0.0\n",
              "2 2018-01-03  PRCP_x   0.0\n",
              "3 2018-01-04  PRCP_x   0.0\n",
              "4 2018-01-05  PRCP_x   0.0"
            ],
            "text/html": [
              "\n",
              "  <div id=\"df-27f116f1-749c-4d6c-a926-12f49f756e44\">\n",
              "    <div class=\"colab-df-container\">\n",
              "      <div>\n",
              "<style scoped>\n",
              "    .dataframe tbody tr th:only-of-type {\n",
              "        vertical-align: middle;\n",
              "    }\n",
              "\n",
              "    .dataframe tbody tr th {\n",
              "        vertical-align: top;\n",
              "    }\n",
              "\n",
              "    .dataframe thead th {\n",
              "        text-align: right;\n",
              "    }\n",
              "</style>\n",
              "<table border=\"1\" class=\"dataframe\">\n",
              "  <thead>\n",
              "    <tr style=\"text-align: right;\">\n",
              "      <th></th>\n",
              "      <th>DATE</th>\n",
              "      <th>CITY</th>\n",
              "      <th>PRCP</th>\n",
              "    </tr>\n",
              "  </thead>\n",
              "  <tbody>\n",
              "    <tr>\n",
              "      <th>0</th>\n",
              "      <td>2018-01-01</td>\n",
              "      <td>PRCP_x</td>\n",
              "      <td>0.0</td>\n",
              "    </tr>\n",
              "    <tr>\n",
              "      <th>1</th>\n",
              "      <td>2018-01-02</td>\n",
              "      <td>PRCP_x</td>\n",
              "      <td>0.0</td>\n",
              "    </tr>\n",
              "    <tr>\n",
              "      <th>2</th>\n",
              "      <td>2018-01-03</td>\n",
              "      <td>PRCP_x</td>\n",
              "      <td>0.0</td>\n",
              "    </tr>\n",
              "    <tr>\n",
              "      <th>3</th>\n",
              "      <td>2018-01-04</td>\n",
              "      <td>PRCP_x</td>\n",
              "      <td>0.0</td>\n",
              "    </tr>\n",
              "    <tr>\n",
              "      <th>4</th>\n",
              "      <td>2018-01-05</td>\n",
              "      <td>PRCP_x</td>\n",
              "      <td>0.0</td>\n",
              "    </tr>\n",
              "  </tbody>\n",
              "</table>\n",
              "</div>\n",
              "      <button class=\"colab-df-convert\" onclick=\"convertToInteractive('df-27f116f1-749c-4d6c-a926-12f49f756e44')\"\n",
              "              title=\"Convert this dataframe to an interactive table.\"\n",
              "              style=\"display:none;\">\n",
              "        \n",
              "  <svg xmlns=\"http://www.w3.org/2000/svg\" height=\"24px\"viewBox=\"0 0 24 24\"\n",
              "       width=\"24px\">\n",
              "    <path d=\"M0 0h24v24H0V0z\" fill=\"none\"/>\n",
              "    <path d=\"M18.56 5.44l.94 2.06.94-2.06 2.06-.94-2.06-.94-.94-2.06-.94 2.06-2.06.94zm-11 1L8.5 8.5l.94-2.06 2.06-.94-2.06-.94L8.5 2.5l-.94 2.06-2.06.94zm10 10l.94 2.06.94-2.06 2.06-.94-2.06-.94-.94-2.06-.94 2.06-2.06.94z\"/><path d=\"M17.41 7.96l-1.37-1.37c-.4-.4-.92-.59-1.43-.59-.52 0-1.04.2-1.43.59L10.3 9.45l-7.72 7.72c-.78.78-.78 2.05 0 2.83L4 21.41c.39.39.9.59 1.41.59.51 0 1.02-.2 1.41-.59l7.78-7.78 2.81-2.81c.8-.78.8-2.07 0-2.86zM5.41 20L4 18.59l7.72-7.72 1.47 1.35L5.41 20z\"/>\n",
              "  </svg>\n",
              "      </button>\n",
              "      \n",
              "  <style>\n",
              "    .colab-df-container {\n",
              "      display:flex;\n",
              "      flex-wrap:wrap;\n",
              "      gap: 12px;\n",
              "    }\n",
              "\n",
              "    .colab-df-convert {\n",
              "      background-color: #E8F0FE;\n",
              "      border: none;\n",
              "      border-radius: 50%;\n",
              "      cursor: pointer;\n",
              "      display: none;\n",
              "      fill: #1967D2;\n",
              "      height: 32px;\n",
              "      padding: 0 0 0 0;\n",
              "      width: 32px;\n",
              "    }\n",
              "\n",
              "    .colab-df-convert:hover {\n",
              "      background-color: #E2EBFA;\n",
              "      box-shadow: 0px 1px 2px rgba(60, 64, 67, 0.3), 0px 1px 3px 1px rgba(60, 64, 67, 0.15);\n",
              "      fill: #174EA6;\n",
              "    }\n",
              "\n",
              "    [theme=dark] .colab-df-convert {\n",
              "      background-color: #3B4455;\n",
              "      fill: #D2E3FC;\n",
              "    }\n",
              "\n",
              "    [theme=dark] .colab-df-convert:hover {\n",
              "      background-color: #434B5C;\n",
              "      box-shadow: 0px 1px 3px 1px rgba(0, 0, 0, 0.15);\n",
              "      filter: drop-shadow(0px 1px 2px rgba(0, 0, 0, 0.3));\n",
              "      fill: #FFFFFF;\n",
              "    }\n",
              "  </style>\n",
              "\n",
              "      <script>\n",
              "        const buttonEl =\n",
              "          document.querySelector('#df-27f116f1-749c-4d6c-a926-12f49f756e44 button.colab-df-convert');\n",
              "        buttonEl.style.display =\n",
              "          google.colab.kernel.accessAllowed ? 'block' : 'none';\n",
              "\n",
              "        async function convertToInteractive(key) {\n",
              "          const element = document.querySelector('#df-27f116f1-749c-4d6c-a926-12f49f756e44');\n",
              "          const dataTable =\n",
              "            await google.colab.kernel.invokeFunction('convertToInteractive',\n",
              "                                                     [key], {});\n",
              "          if (!dataTable) return;\n",
              "\n",
              "          const docLinkHtml = 'Like what you see? Visit the ' +\n",
              "            '<a target=\"_blank\" href=https://colab.research.google.com/notebooks/data_table.ipynb>data table notebook</a>'\n",
              "            + ' to learn more about interactive tables.';\n",
              "          element.innerHTML = '';\n",
              "          dataTable['output_type'] = 'display_data';\n",
              "          await google.colab.output.renderOutput(dataTable, element);\n",
              "          const docLink = document.createElement('div');\n",
              "          docLink.innerHTML = docLinkHtml;\n",
              "          element.appendChild(docLink);\n",
              "        }\n",
              "      </script>\n",
              "    </div>\n",
              "  </div>\n",
              "  "
            ]
          },
          "metadata": {},
          "execution_count": 25
        }
      ]
    },
    {
      "cell_type": "markdown",
      "source": [
        "We want to rename the x and y precipitation values so that they read as the two different cities."
      ],
      "metadata": {
        "id": "E9DOHnTsKEIj"
      }
    },
    {
      "cell_type": "code",
      "source": [
        "df.tidy.loc[df.tidy['CITY'] == 'PRCP_x', 'CITY'] = 'STL'\n",
        "df.tidy.loc[df.tidy['CITY'] == 'PRCP_y', 'CITY'] = 'SEA'\n",
        "df.tidy"
      ],
      "metadata": {
        "colab": {
          "base_uri": "https://localhost:8080/",
          "height": 424
        },
        "id": "iCqwRxmQJQMj",
        "outputId": "f03ea6f1-2474-44ca-ff16-8b96807d4601"
      },
      "execution_count": 26,
      "outputs": [
        {
          "output_type": "execute_result",
          "data": {
            "text/plain": [
              "           DATE CITY  PRCP\n",
              "0    2018-01-01  STL  0.00\n",
              "1    2018-01-02  STL  0.00\n",
              "2    2018-01-03  STL  0.00\n",
              "3    2018-01-04  STL  0.00\n",
              "4    2018-01-05  STL  0.00\n",
              "...         ...  ...   ...\n",
              "3647 2022-12-27  SEA  0.78\n",
              "3648 2022-12-28  SEA  0.40\n",
              "3649 2022-12-29  SEA  0.03\n",
              "3650 2022-12-30  SEA  0.62\n",
              "3651 2022-12-31  SEA  0.17\n",
              "\n",
              "[3652 rows x 3 columns]"
            ],
            "text/html": [
              "\n",
              "  <div id=\"df-69aae7f9-d9c6-4fee-ba28-a753ccce7114\">\n",
              "    <div class=\"colab-df-container\">\n",
              "      <div>\n",
              "<style scoped>\n",
              "    .dataframe tbody tr th:only-of-type {\n",
              "        vertical-align: middle;\n",
              "    }\n",
              "\n",
              "    .dataframe tbody tr th {\n",
              "        vertical-align: top;\n",
              "    }\n",
              "\n",
              "    .dataframe thead th {\n",
              "        text-align: right;\n",
              "    }\n",
              "</style>\n",
              "<table border=\"1\" class=\"dataframe\">\n",
              "  <thead>\n",
              "    <tr style=\"text-align: right;\">\n",
              "      <th></th>\n",
              "      <th>DATE</th>\n",
              "      <th>CITY</th>\n",
              "      <th>PRCP</th>\n",
              "    </tr>\n",
              "  </thead>\n",
              "  <tbody>\n",
              "    <tr>\n",
              "      <th>0</th>\n",
              "      <td>2018-01-01</td>\n",
              "      <td>STL</td>\n",
              "      <td>0.00</td>\n",
              "    </tr>\n",
              "    <tr>\n",
              "      <th>1</th>\n",
              "      <td>2018-01-02</td>\n",
              "      <td>STL</td>\n",
              "      <td>0.00</td>\n",
              "    </tr>\n",
              "    <tr>\n",
              "      <th>2</th>\n",
              "      <td>2018-01-03</td>\n",
              "      <td>STL</td>\n",
              "      <td>0.00</td>\n",
              "    </tr>\n",
              "    <tr>\n",
              "      <th>3</th>\n",
              "      <td>2018-01-04</td>\n",
              "      <td>STL</td>\n",
              "      <td>0.00</td>\n",
              "    </tr>\n",
              "    <tr>\n",
              "      <th>4</th>\n",
              "      <td>2018-01-05</td>\n",
              "      <td>STL</td>\n",
              "      <td>0.00</td>\n",
              "    </tr>\n",
              "    <tr>\n",
              "      <th>...</th>\n",
              "      <td>...</td>\n",
              "      <td>...</td>\n",
              "      <td>...</td>\n",
              "    </tr>\n",
              "    <tr>\n",
              "      <th>3647</th>\n",
              "      <td>2022-12-27</td>\n",
              "      <td>SEA</td>\n",
              "      <td>0.78</td>\n",
              "    </tr>\n",
              "    <tr>\n",
              "      <th>3648</th>\n",
              "      <td>2022-12-28</td>\n",
              "      <td>SEA</td>\n",
              "      <td>0.40</td>\n",
              "    </tr>\n",
              "    <tr>\n",
              "      <th>3649</th>\n",
              "      <td>2022-12-29</td>\n",
              "      <td>SEA</td>\n",
              "      <td>0.03</td>\n",
              "    </tr>\n",
              "    <tr>\n",
              "      <th>3650</th>\n",
              "      <td>2022-12-30</td>\n",
              "      <td>SEA</td>\n",
              "      <td>0.62</td>\n",
              "    </tr>\n",
              "    <tr>\n",
              "      <th>3651</th>\n",
              "      <td>2022-12-31</td>\n",
              "      <td>SEA</td>\n",
              "      <td>0.17</td>\n",
              "    </tr>\n",
              "  </tbody>\n",
              "</table>\n",
              "<p>3652 rows × 3 columns</p>\n",
              "</div>\n",
              "      <button class=\"colab-df-convert\" onclick=\"convertToInteractive('df-69aae7f9-d9c6-4fee-ba28-a753ccce7114')\"\n",
              "              title=\"Convert this dataframe to an interactive table.\"\n",
              "              style=\"display:none;\">\n",
              "        \n",
              "  <svg xmlns=\"http://www.w3.org/2000/svg\" height=\"24px\"viewBox=\"0 0 24 24\"\n",
              "       width=\"24px\">\n",
              "    <path d=\"M0 0h24v24H0V0z\" fill=\"none\"/>\n",
              "    <path d=\"M18.56 5.44l.94 2.06.94-2.06 2.06-.94-2.06-.94-.94-2.06-.94 2.06-2.06.94zm-11 1L8.5 8.5l.94-2.06 2.06-.94-2.06-.94L8.5 2.5l-.94 2.06-2.06.94zm10 10l.94 2.06.94-2.06 2.06-.94-2.06-.94-.94-2.06-.94 2.06-2.06.94z\"/><path d=\"M17.41 7.96l-1.37-1.37c-.4-.4-.92-.59-1.43-.59-.52 0-1.04.2-1.43.59L10.3 9.45l-7.72 7.72c-.78.78-.78 2.05 0 2.83L4 21.41c.39.39.9.59 1.41.59.51 0 1.02-.2 1.41-.59l7.78-7.78 2.81-2.81c.8-.78.8-2.07 0-2.86zM5.41 20L4 18.59l7.72-7.72 1.47 1.35L5.41 20z\"/>\n",
              "  </svg>\n",
              "      </button>\n",
              "      \n",
              "  <style>\n",
              "    .colab-df-container {\n",
              "      display:flex;\n",
              "      flex-wrap:wrap;\n",
              "      gap: 12px;\n",
              "    }\n",
              "\n",
              "    .colab-df-convert {\n",
              "      background-color: #E8F0FE;\n",
              "      border: none;\n",
              "      border-radius: 50%;\n",
              "      cursor: pointer;\n",
              "      display: none;\n",
              "      fill: #1967D2;\n",
              "      height: 32px;\n",
              "      padding: 0 0 0 0;\n",
              "      width: 32px;\n",
              "    }\n",
              "\n",
              "    .colab-df-convert:hover {\n",
              "      background-color: #E2EBFA;\n",
              "      box-shadow: 0px 1px 2px rgba(60, 64, 67, 0.3), 0px 1px 3px 1px rgba(60, 64, 67, 0.15);\n",
              "      fill: #174EA6;\n",
              "    }\n",
              "\n",
              "    [theme=dark] .colab-df-convert {\n",
              "      background-color: #3B4455;\n",
              "      fill: #D2E3FC;\n",
              "    }\n",
              "\n",
              "    [theme=dark] .colab-df-convert:hover {\n",
              "      background-color: #434B5C;\n",
              "      box-shadow: 0px 1px 3px 1px rgba(0, 0, 0, 0.15);\n",
              "      filter: drop-shadow(0px 1px 2px rgba(0, 0, 0, 0.3));\n",
              "      fill: #FFFFFF;\n",
              "    }\n",
              "  </style>\n",
              "\n",
              "      <script>\n",
              "        const buttonEl =\n",
              "          document.querySelector('#df-69aae7f9-d9c6-4fee-ba28-a753ccce7114 button.colab-df-convert');\n",
              "        buttonEl.style.display =\n",
              "          google.colab.kernel.accessAllowed ? 'block' : 'none';\n",
              "\n",
              "        async function convertToInteractive(key) {\n",
              "          const element = document.querySelector('#df-69aae7f9-d9c6-4fee-ba28-a753ccce7114');\n",
              "          const dataTable =\n",
              "            await google.colab.kernel.invokeFunction('convertToInteractive',\n",
              "                                                     [key], {});\n",
              "          if (!dataTable) return;\n",
              "\n",
              "          const docLinkHtml = 'Like what you see? Visit the ' +\n",
              "            '<a target=\"_blank\" href=https://colab.research.google.com/notebooks/data_table.ipynb>data table notebook</a>'\n",
              "            + ' to learn more about interactive tables.';\n",
              "          element.innerHTML = '';\n",
              "          dataTable['output_type'] = 'display_data';\n",
              "          await google.colab.output.renderOutput(dataTable, element);\n",
              "          const docLink = document.createElement('div');\n",
              "          docLink.innerHTML = docLinkHtml;\n",
              "          element.appendChild(docLink);\n",
              "        }\n",
              "      </script>\n",
              "    </div>\n",
              "  </div>\n",
              "  "
            ]
          },
          "metadata": {},
          "execution_count": 26
        }
      ]
    },
    {
      "cell_type": "markdown",
      "source": [
        "### Rename columns or values to follow best practices"
      ],
      "metadata": {
        "id": "j94iqCXhK-SI"
      }
    },
    {
      "cell_type": "markdown",
      "source": [
        "We want to rename the column titles so that they all follow the same format."
      ],
      "metadata": {
        "id": "dtz1Tip6KNKA"
      }
    },
    {
      "cell_type": "code",
      "source": [
        "df.tidy = df.tidy.rename(columns = {'DATE': 'date', 'CITY': 'city', 'PRCP': 'precipitation'})\n",
        "df = df.tidy\n",
        "df"
      ],
      "metadata": {
        "colab": {
          "base_uri": "https://localhost:8080/",
          "height": 424
        },
        "id": "LaW4M69mJS60",
        "outputId": "45fb6c58-bcc1-432e-92f5-f7624e2aff65"
      },
      "execution_count": 27,
      "outputs": [
        {
          "output_type": "execute_result",
          "data": {
            "text/plain": [
              "           date city  precipitation\n",
              "0    2018-01-01  STL           0.00\n",
              "1    2018-01-02  STL           0.00\n",
              "2    2018-01-03  STL           0.00\n",
              "3    2018-01-04  STL           0.00\n",
              "4    2018-01-05  STL           0.00\n",
              "...         ...  ...            ...\n",
              "3647 2022-12-27  SEA           0.78\n",
              "3648 2022-12-28  SEA           0.40\n",
              "3649 2022-12-29  SEA           0.03\n",
              "3650 2022-12-30  SEA           0.62\n",
              "3651 2022-12-31  SEA           0.17\n",
              "\n",
              "[3652 rows x 3 columns]"
            ],
            "text/html": [
              "\n",
              "  <div id=\"df-b53dd9e1-01b9-4ef9-a2ae-90f558f031f9\">\n",
              "    <div class=\"colab-df-container\">\n",
              "      <div>\n",
              "<style scoped>\n",
              "    .dataframe tbody tr th:only-of-type {\n",
              "        vertical-align: middle;\n",
              "    }\n",
              "\n",
              "    .dataframe tbody tr th {\n",
              "        vertical-align: top;\n",
              "    }\n",
              "\n",
              "    .dataframe thead th {\n",
              "        text-align: right;\n",
              "    }\n",
              "</style>\n",
              "<table border=\"1\" class=\"dataframe\">\n",
              "  <thead>\n",
              "    <tr style=\"text-align: right;\">\n",
              "      <th></th>\n",
              "      <th>date</th>\n",
              "      <th>city</th>\n",
              "      <th>precipitation</th>\n",
              "    </tr>\n",
              "  </thead>\n",
              "  <tbody>\n",
              "    <tr>\n",
              "      <th>0</th>\n",
              "      <td>2018-01-01</td>\n",
              "      <td>STL</td>\n",
              "      <td>0.00</td>\n",
              "    </tr>\n",
              "    <tr>\n",
              "      <th>1</th>\n",
              "      <td>2018-01-02</td>\n",
              "      <td>STL</td>\n",
              "      <td>0.00</td>\n",
              "    </tr>\n",
              "    <tr>\n",
              "      <th>2</th>\n",
              "      <td>2018-01-03</td>\n",
              "      <td>STL</td>\n",
              "      <td>0.00</td>\n",
              "    </tr>\n",
              "    <tr>\n",
              "      <th>3</th>\n",
              "      <td>2018-01-04</td>\n",
              "      <td>STL</td>\n",
              "      <td>0.00</td>\n",
              "    </tr>\n",
              "    <tr>\n",
              "      <th>4</th>\n",
              "      <td>2018-01-05</td>\n",
              "      <td>STL</td>\n",
              "      <td>0.00</td>\n",
              "    </tr>\n",
              "    <tr>\n",
              "      <th>...</th>\n",
              "      <td>...</td>\n",
              "      <td>...</td>\n",
              "      <td>...</td>\n",
              "    </tr>\n",
              "    <tr>\n",
              "      <th>3647</th>\n",
              "      <td>2022-12-27</td>\n",
              "      <td>SEA</td>\n",
              "      <td>0.78</td>\n",
              "    </tr>\n",
              "    <tr>\n",
              "      <th>3648</th>\n",
              "      <td>2022-12-28</td>\n",
              "      <td>SEA</td>\n",
              "      <td>0.40</td>\n",
              "    </tr>\n",
              "    <tr>\n",
              "      <th>3649</th>\n",
              "      <td>2022-12-29</td>\n",
              "      <td>SEA</td>\n",
              "      <td>0.03</td>\n",
              "    </tr>\n",
              "    <tr>\n",
              "      <th>3650</th>\n",
              "      <td>2022-12-30</td>\n",
              "      <td>SEA</td>\n",
              "      <td>0.62</td>\n",
              "    </tr>\n",
              "    <tr>\n",
              "      <th>3651</th>\n",
              "      <td>2022-12-31</td>\n",
              "      <td>SEA</td>\n",
              "      <td>0.17</td>\n",
              "    </tr>\n",
              "  </tbody>\n",
              "</table>\n",
              "<p>3652 rows × 3 columns</p>\n",
              "</div>\n",
              "      <button class=\"colab-df-convert\" onclick=\"convertToInteractive('df-b53dd9e1-01b9-4ef9-a2ae-90f558f031f9')\"\n",
              "              title=\"Convert this dataframe to an interactive table.\"\n",
              "              style=\"display:none;\">\n",
              "        \n",
              "  <svg xmlns=\"http://www.w3.org/2000/svg\" height=\"24px\"viewBox=\"0 0 24 24\"\n",
              "       width=\"24px\">\n",
              "    <path d=\"M0 0h24v24H0V0z\" fill=\"none\"/>\n",
              "    <path d=\"M18.56 5.44l.94 2.06.94-2.06 2.06-.94-2.06-.94-.94-2.06-.94 2.06-2.06.94zm-11 1L8.5 8.5l.94-2.06 2.06-.94-2.06-.94L8.5 2.5l-.94 2.06-2.06.94zm10 10l.94 2.06.94-2.06 2.06-.94-2.06-.94-.94-2.06-.94 2.06-2.06.94z\"/><path d=\"M17.41 7.96l-1.37-1.37c-.4-.4-.92-.59-1.43-.59-.52 0-1.04.2-1.43.59L10.3 9.45l-7.72 7.72c-.78.78-.78 2.05 0 2.83L4 21.41c.39.39.9.59 1.41.59.51 0 1.02-.2 1.41-.59l7.78-7.78 2.81-2.81c.8-.78.8-2.07 0-2.86zM5.41 20L4 18.59l7.72-7.72 1.47 1.35L5.41 20z\"/>\n",
              "  </svg>\n",
              "      </button>\n",
              "      \n",
              "  <style>\n",
              "    .colab-df-container {\n",
              "      display:flex;\n",
              "      flex-wrap:wrap;\n",
              "      gap: 12px;\n",
              "    }\n",
              "\n",
              "    .colab-df-convert {\n",
              "      background-color: #E8F0FE;\n",
              "      border: none;\n",
              "      border-radius: 50%;\n",
              "      cursor: pointer;\n",
              "      display: none;\n",
              "      fill: #1967D2;\n",
              "      height: 32px;\n",
              "      padding: 0 0 0 0;\n",
              "      width: 32px;\n",
              "    }\n",
              "\n",
              "    .colab-df-convert:hover {\n",
              "      background-color: #E2EBFA;\n",
              "      box-shadow: 0px 1px 2px rgba(60, 64, 67, 0.3), 0px 1px 3px 1px rgba(60, 64, 67, 0.15);\n",
              "      fill: #174EA6;\n",
              "    }\n",
              "\n",
              "    [theme=dark] .colab-df-convert {\n",
              "      background-color: #3B4455;\n",
              "      fill: #D2E3FC;\n",
              "    }\n",
              "\n",
              "    [theme=dark] .colab-df-convert:hover {\n",
              "      background-color: #434B5C;\n",
              "      box-shadow: 0px 1px 3px 1px rgba(0, 0, 0, 0.15);\n",
              "      filter: drop-shadow(0px 1px 2px rgba(0, 0, 0, 0.3));\n",
              "      fill: #FFFFFF;\n",
              "    }\n",
              "  </style>\n",
              "\n",
              "      <script>\n",
              "        const buttonEl =\n",
              "          document.querySelector('#df-b53dd9e1-01b9-4ef9-a2ae-90f558f031f9 button.colab-df-convert');\n",
              "        buttonEl.style.display =\n",
              "          google.colab.kernel.accessAllowed ? 'block' : 'none';\n",
              "\n",
              "        async function convertToInteractive(key) {\n",
              "          const element = document.querySelector('#df-b53dd9e1-01b9-4ef9-a2ae-90f558f031f9');\n",
              "          const dataTable =\n",
              "            await google.colab.kernel.invokeFunction('convertToInteractive',\n",
              "                                                     [key], {});\n",
              "          if (!dataTable) return;\n",
              "\n",
              "          const docLinkHtml = 'Like what you see? Visit the ' +\n",
              "            '<a target=\"_blank\" href=https://colab.research.google.com/notebooks/data_table.ipynb>data table notebook</a>'\n",
              "            + ' to learn more about interactive tables.';\n",
              "          element.innerHTML = '';\n",
              "          dataTable['output_type'] = 'display_data';\n",
              "          await google.colab.output.renderOutput(dataTable, element);\n",
              "          const docLink = document.createElement('div');\n",
              "          docLink.innerHTML = docLinkHtml;\n",
              "          element.appendChild(docLink);\n",
              "        }\n",
              "      </script>\n",
              "    </div>\n",
              "  </div>\n",
              "  "
            ]
          },
          "metadata": {},
          "execution_count": 27
        }
      ]
    },
    {
      "cell_type": "markdown",
      "source": [
        "# Impute Missing Values"
      ],
      "metadata": {
        "id": "m12uqw0bLGp5"
      }
    },
    {
      "cell_type": "markdown",
      "source": [
        "We want to find a way to impute the missing values from the Seattle observations so we have no more NaN observations."
      ],
      "metadata": {
        "id": "mwUt6LxGLH7N"
      }
    },
    {
      "cell_type": "code",
      "source": [
        "df['day_of_year'] = pd.DatetimeIndex(df['date']).day_of_year\n",
        "df"
      ],
      "metadata": {
        "colab": {
          "base_uri": "https://localhost:8080/",
          "height": 424
        },
        "id": "kAFvz2P5Nu0K",
        "outputId": "89c933a6-4fd1-43cf-d794-badc7f89f615"
      },
      "execution_count": 28,
      "outputs": [
        {
          "output_type": "execute_result",
          "data": {
            "text/plain": [
              "           date city  precipitation  day_of_year\n",
              "0    2018-01-01  STL           0.00            1\n",
              "1    2018-01-02  STL           0.00            2\n",
              "2    2018-01-03  STL           0.00            3\n",
              "3    2018-01-04  STL           0.00            4\n",
              "4    2018-01-05  STL           0.00            5\n",
              "...         ...  ...            ...          ...\n",
              "3647 2022-12-27  SEA           0.78          361\n",
              "3648 2022-12-28  SEA           0.40          362\n",
              "3649 2022-12-29  SEA           0.03          363\n",
              "3650 2022-12-30  SEA           0.62          364\n",
              "3651 2022-12-31  SEA           0.17          365\n",
              "\n",
              "[3652 rows x 4 columns]"
            ],
            "text/html": [
              "\n",
              "  <div id=\"df-26906a59-7b78-43cd-b35d-ecf4a8bcde95\">\n",
              "    <div class=\"colab-df-container\">\n",
              "      <div>\n",
              "<style scoped>\n",
              "    .dataframe tbody tr th:only-of-type {\n",
              "        vertical-align: middle;\n",
              "    }\n",
              "\n",
              "    .dataframe tbody tr th {\n",
              "        vertical-align: top;\n",
              "    }\n",
              "\n",
              "    .dataframe thead th {\n",
              "        text-align: right;\n",
              "    }\n",
              "</style>\n",
              "<table border=\"1\" class=\"dataframe\">\n",
              "  <thead>\n",
              "    <tr style=\"text-align: right;\">\n",
              "      <th></th>\n",
              "      <th>date</th>\n",
              "      <th>city</th>\n",
              "      <th>precipitation</th>\n",
              "      <th>day_of_year</th>\n",
              "    </tr>\n",
              "  </thead>\n",
              "  <tbody>\n",
              "    <tr>\n",
              "      <th>0</th>\n",
              "      <td>2018-01-01</td>\n",
              "      <td>STL</td>\n",
              "      <td>0.00</td>\n",
              "      <td>1</td>\n",
              "    </tr>\n",
              "    <tr>\n",
              "      <th>1</th>\n",
              "      <td>2018-01-02</td>\n",
              "      <td>STL</td>\n",
              "      <td>0.00</td>\n",
              "      <td>2</td>\n",
              "    </tr>\n",
              "    <tr>\n",
              "      <th>2</th>\n",
              "      <td>2018-01-03</td>\n",
              "      <td>STL</td>\n",
              "      <td>0.00</td>\n",
              "      <td>3</td>\n",
              "    </tr>\n",
              "    <tr>\n",
              "      <th>3</th>\n",
              "      <td>2018-01-04</td>\n",
              "      <td>STL</td>\n",
              "      <td>0.00</td>\n",
              "      <td>4</td>\n",
              "    </tr>\n",
              "    <tr>\n",
              "      <th>4</th>\n",
              "      <td>2018-01-05</td>\n",
              "      <td>STL</td>\n",
              "      <td>0.00</td>\n",
              "      <td>5</td>\n",
              "    </tr>\n",
              "    <tr>\n",
              "      <th>...</th>\n",
              "      <td>...</td>\n",
              "      <td>...</td>\n",
              "      <td>...</td>\n",
              "      <td>...</td>\n",
              "    </tr>\n",
              "    <tr>\n",
              "      <th>3647</th>\n",
              "      <td>2022-12-27</td>\n",
              "      <td>SEA</td>\n",
              "      <td>0.78</td>\n",
              "      <td>361</td>\n",
              "    </tr>\n",
              "    <tr>\n",
              "      <th>3648</th>\n",
              "      <td>2022-12-28</td>\n",
              "      <td>SEA</td>\n",
              "      <td>0.40</td>\n",
              "      <td>362</td>\n",
              "    </tr>\n",
              "    <tr>\n",
              "      <th>3649</th>\n",
              "      <td>2022-12-29</td>\n",
              "      <td>SEA</td>\n",
              "      <td>0.03</td>\n",
              "      <td>363</td>\n",
              "    </tr>\n",
              "    <tr>\n",
              "      <th>3650</th>\n",
              "      <td>2022-12-30</td>\n",
              "      <td>SEA</td>\n",
              "      <td>0.62</td>\n",
              "      <td>364</td>\n",
              "    </tr>\n",
              "    <tr>\n",
              "      <th>3651</th>\n",
              "      <td>2022-12-31</td>\n",
              "      <td>SEA</td>\n",
              "      <td>0.17</td>\n",
              "      <td>365</td>\n",
              "    </tr>\n",
              "  </tbody>\n",
              "</table>\n",
              "<p>3652 rows × 4 columns</p>\n",
              "</div>\n",
              "      <button class=\"colab-df-convert\" onclick=\"convertToInteractive('df-26906a59-7b78-43cd-b35d-ecf4a8bcde95')\"\n",
              "              title=\"Convert this dataframe to an interactive table.\"\n",
              "              style=\"display:none;\">\n",
              "        \n",
              "  <svg xmlns=\"http://www.w3.org/2000/svg\" height=\"24px\"viewBox=\"0 0 24 24\"\n",
              "       width=\"24px\">\n",
              "    <path d=\"M0 0h24v24H0V0z\" fill=\"none\"/>\n",
              "    <path d=\"M18.56 5.44l.94 2.06.94-2.06 2.06-.94-2.06-.94-.94-2.06-.94 2.06-2.06.94zm-11 1L8.5 8.5l.94-2.06 2.06-.94-2.06-.94L8.5 2.5l-.94 2.06-2.06.94zm10 10l.94 2.06.94-2.06 2.06-.94-2.06-.94-.94-2.06-.94 2.06-2.06.94z\"/><path d=\"M17.41 7.96l-1.37-1.37c-.4-.4-.92-.59-1.43-.59-.52 0-1.04.2-1.43.59L10.3 9.45l-7.72 7.72c-.78.78-.78 2.05 0 2.83L4 21.41c.39.39.9.59 1.41.59.51 0 1.02-.2 1.41-.59l7.78-7.78 2.81-2.81c.8-.78.8-2.07 0-2.86zM5.41 20L4 18.59l7.72-7.72 1.47 1.35L5.41 20z\"/>\n",
              "  </svg>\n",
              "      </button>\n",
              "      \n",
              "  <style>\n",
              "    .colab-df-container {\n",
              "      display:flex;\n",
              "      flex-wrap:wrap;\n",
              "      gap: 12px;\n",
              "    }\n",
              "\n",
              "    .colab-df-convert {\n",
              "      background-color: #E8F0FE;\n",
              "      border: none;\n",
              "      border-radius: 50%;\n",
              "      cursor: pointer;\n",
              "      display: none;\n",
              "      fill: #1967D2;\n",
              "      height: 32px;\n",
              "      padding: 0 0 0 0;\n",
              "      width: 32px;\n",
              "    }\n",
              "\n",
              "    .colab-df-convert:hover {\n",
              "      background-color: #E2EBFA;\n",
              "      box-shadow: 0px 1px 2px rgba(60, 64, 67, 0.3), 0px 1px 3px 1px rgba(60, 64, 67, 0.15);\n",
              "      fill: #174EA6;\n",
              "    }\n",
              "\n",
              "    [theme=dark] .colab-df-convert {\n",
              "      background-color: #3B4455;\n",
              "      fill: #D2E3FC;\n",
              "    }\n",
              "\n",
              "    [theme=dark] .colab-df-convert:hover {\n",
              "      background-color: #434B5C;\n",
              "      box-shadow: 0px 1px 3px 1px rgba(0, 0, 0, 0.15);\n",
              "      filter: drop-shadow(0px 1px 2px rgba(0, 0, 0, 0.3));\n",
              "      fill: #FFFFFF;\n",
              "    }\n",
              "  </style>\n",
              "\n",
              "      <script>\n",
              "        const buttonEl =\n",
              "          document.querySelector('#df-26906a59-7b78-43cd-b35d-ecf4a8bcde95 button.colab-df-convert');\n",
              "        buttonEl.style.display =\n",
              "          google.colab.kernel.accessAllowed ? 'block' : 'none';\n",
              "\n",
              "        async function convertToInteractive(key) {\n",
              "          const element = document.querySelector('#df-26906a59-7b78-43cd-b35d-ecf4a8bcde95');\n",
              "          const dataTable =\n",
              "            await google.colab.kernel.invokeFunction('convertToInteractive',\n",
              "                                                     [key], {});\n",
              "          if (!dataTable) return;\n",
              "\n",
              "          const docLinkHtml = 'Like what you see? Visit the ' +\n",
              "            '<a target=\"_blank\" href=https://colab.research.google.com/notebooks/data_table.ipynb>data table notebook</a>'\n",
              "            + ' to learn more about interactive tables.';\n",
              "          element.innerHTML = '';\n",
              "          dataTable['output_type'] = 'display_data';\n",
              "          await google.colab.output.renderOutput(dataTable, element);\n",
              "          const docLink = document.createElement('div');\n",
              "          docLink.innerHTML = docLinkHtml;\n",
              "          element.appendChild(docLink);\n",
              "        }\n",
              "      </script>\n",
              "    </div>\n",
              "  </div>\n",
              "  "
            ]
          },
          "metadata": {},
          "execution_count": 28
        }
      ]
    },
    {
      "cell_type": "markdown",
      "source": [
        "We create a new data column titled day_of_year so that we can replace the missing values with an average of the percipitation from the remaining years that have actual observations on that same day"
      ],
      "metadata": {
        "id": "DID3JpobNy6r"
      }
    },
    {
      "cell_type": "code",
      "source": [
        "indices = np.where(df['precipitation'].isna() == True)[0]\n",
        "indices"
      ],
      "metadata": {
        "colab": {
          "base_uri": "https://localhost:8080/"
        },
        "id": "MOD3H9pgNyBm",
        "outputId": "4a01e809-b7bf-43d7-b762-7e729b51b8e4"
      },
      "execution_count": 29,
      "outputs": [
        {
          "output_type": "execute_result",
          "data": {
            "text/plain": [
              "array([1834, 1835, 1836, 1837, 1838, 1839, 1840, 1841, 1842, 1843, 1844,\n",
              "       1845, 1846, 1847, 1848, 1849, 1850, 1851, 1852, 1853, 1854, 1855,\n",
              "       1856, 1857, 1858, 1859, 1860, 1861, 1862, 1863, 1864, 1865, 1866,\n",
              "       1867, 1868, 1869, 1870, 1871, 1872, 1873, 1874, 1875, 1876, 1877,\n",
              "       1878, 1879, 1880, 1881, 1882, 1883, 1884, 1885, 1886, 1887, 1888,\n",
              "       1889, 1890, 1891, 1892, 1893, 1894, 1895, 2090, 2131, 2132, 2133,\n",
              "       2134, 2135, 2136, 2137, 2138, 2139, 2140, 2195, 2196, 2197, 2214,\n",
              "       2215, 2244, 2245, 2246, 2247, 2248, 2249, 2286, 2287, 2288, 2362,\n",
              "       2363, 2368, 2369, 2370, 2371, 2372, 2373, 2374, 2375, 2376, 2377,\n",
              "       2417, 2418, 2419, 2420, 2421, 2422, 2423, 2517, 2518, 2519, 2520,\n",
              "       2521, 2522, 2523, 2524, 2559, 2560, 2561, 2602, 2603, 2604, 2605,\n",
              "       2606, 2607, 2608, 2609, 2610, 2611, 2612, 2818, 2819, 2820, 2821,\n",
              "       2822, 2823, 2824, 2825, 2826, 2827, 2972, 2973, 2974, 2975, 2983,\n",
              "       2984, 2986, 2987, 2988, 3000, 3001, 3004, 3005, 3006, 3007, 3008,\n",
              "       3011, 3012, 3013, 3014, 3015, 3016, 3133, 3134, 3135, 3147, 3148,\n",
              "       3149, 3150, 3151, 3152, 3153, 3154, 3155, 3156, 3157, 3158, 3159,\n",
              "       3160, 3161, 3162, 3163, 3363, 3364, 3365, 3366, 3367, 3368, 3369,\n",
              "       3370, 3371, 3372])"
            ]
          },
          "metadata": {},
          "execution_count": 29
        }
      ]
    },
    {
      "cell_type": "markdown",
      "source": [
        "This array gives us all the indicies of the df where there are NaNs recorded for the precipitation column"
      ],
      "metadata": {
        "id": "F8WAebX_OJMP"
      }
    },
    {
      "cell_type": "code",
      "source": [
        "mean_day_precipitation = df.loc[df['city'] == 'SEA', ['precipitation', 'day_of_year']].groupby('day_of_year').mean()\n",
        "mean_day_precipitation"
      ],
      "metadata": {
        "colab": {
          "base_uri": "https://localhost:8080/",
          "height": 455
        },
        "id": "VAtq7gKeORwi",
        "outputId": "ec26305c-f9ad-4f9d-8400-6576df8d15d7"
      },
      "execution_count": 30,
      "outputs": [
        {
          "output_type": "execute_result",
          "data": {
            "text/plain": [
              "             precipitation\n",
              "day_of_year               \n",
              "1                 0.052000\n",
              "2                 0.150000\n",
              "3                 0.836000\n",
              "4                 0.370000\n",
              "5                 0.246667\n",
              "...                    ...\n",
              "362               0.120000\n",
              "363               0.102000\n",
              "364               0.268000\n",
              "365               0.140000\n",
              "366               0.500000\n",
              "\n",
              "[366 rows x 1 columns]"
            ],
            "text/html": [
              "\n",
              "  <div id=\"df-a4e329f5-2a7b-4c79-b526-2d09d3d249c7\">\n",
              "    <div class=\"colab-df-container\">\n",
              "      <div>\n",
              "<style scoped>\n",
              "    .dataframe tbody tr th:only-of-type {\n",
              "        vertical-align: middle;\n",
              "    }\n",
              "\n",
              "    .dataframe tbody tr th {\n",
              "        vertical-align: top;\n",
              "    }\n",
              "\n",
              "    .dataframe thead th {\n",
              "        text-align: right;\n",
              "    }\n",
              "</style>\n",
              "<table border=\"1\" class=\"dataframe\">\n",
              "  <thead>\n",
              "    <tr style=\"text-align: right;\">\n",
              "      <th></th>\n",
              "      <th>precipitation</th>\n",
              "    </tr>\n",
              "    <tr>\n",
              "      <th>day_of_year</th>\n",
              "      <th></th>\n",
              "    </tr>\n",
              "  </thead>\n",
              "  <tbody>\n",
              "    <tr>\n",
              "      <th>1</th>\n",
              "      <td>0.052000</td>\n",
              "    </tr>\n",
              "    <tr>\n",
              "      <th>2</th>\n",
              "      <td>0.150000</td>\n",
              "    </tr>\n",
              "    <tr>\n",
              "      <th>3</th>\n",
              "      <td>0.836000</td>\n",
              "    </tr>\n",
              "    <tr>\n",
              "      <th>4</th>\n",
              "      <td>0.370000</td>\n",
              "    </tr>\n",
              "    <tr>\n",
              "      <th>5</th>\n",
              "      <td>0.246667</td>\n",
              "    </tr>\n",
              "    <tr>\n",
              "      <th>...</th>\n",
              "      <td>...</td>\n",
              "    </tr>\n",
              "    <tr>\n",
              "      <th>362</th>\n",
              "      <td>0.120000</td>\n",
              "    </tr>\n",
              "    <tr>\n",
              "      <th>363</th>\n",
              "      <td>0.102000</td>\n",
              "    </tr>\n",
              "    <tr>\n",
              "      <th>364</th>\n",
              "      <td>0.268000</td>\n",
              "    </tr>\n",
              "    <tr>\n",
              "      <th>365</th>\n",
              "      <td>0.140000</td>\n",
              "    </tr>\n",
              "    <tr>\n",
              "      <th>366</th>\n",
              "      <td>0.500000</td>\n",
              "    </tr>\n",
              "  </tbody>\n",
              "</table>\n",
              "<p>366 rows × 1 columns</p>\n",
              "</div>\n",
              "      <button class=\"colab-df-convert\" onclick=\"convertToInteractive('df-a4e329f5-2a7b-4c79-b526-2d09d3d249c7')\"\n",
              "              title=\"Convert this dataframe to an interactive table.\"\n",
              "              style=\"display:none;\">\n",
              "        \n",
              "  <svg xmlns=\"http://www.w3.org/2000/svg\" height=\"24px\"viewBox=\"0 0 24 24\"\n",
              "       width=\"24px\">\n",
              "    <path d=\"M0 0h24v24H0V0z\" fill=\"none\"/>\n",
              "    <path d=\"M18.56 5.44l.94 2.06.94-2.06 2.06-.94-2.06-.94-.94-2.06-.94 2.06-2.06.94zm-11 1L8.5 8.5l.94-2.06 2.06-.94-2.06-.94L8.5 2.5l-.94 2.06-2.06.94zm10 10l.94 2.06.94-2.06 2.06-.94-2.06-.94-.94-2.06-.94 2.06-2.06.94z\"/><path d=\"M17.41 7.96l-1.37-1.37c-.4-.4-.92-.59-1.43-.59-.52 0-1.04.2-1.43.59L10.3 9.45l-7.72 7.72c-.78.78-.78 2.05 0 2.83L4 21.41c.39.39.9.59 1.41.59.51 0 1.02-.2 1.41-.59l7.78-7.78 2.81-2.81c.8-.78.8-2.07 0-2.86zM5.41 20L4 18.59l7.72-7.72 1.47 1.35L5.41 20z\"/>\n",
              "  </svg>\n",
              "      </button>\n",
              "      \n",
              "  <style>\n",
              "    .colab-df-container {\n",
              "      display:flex;\n",
              "      flex-wrap:wrap;\n",
              "      gap: 12px;\n",
              "    }\n",
              "\n",
              "    .colab-df-convert {\n",
              "      background-color: #E8F0FE;\n",
              "      border: none;\n",
              "      border-radius: 50%;\n",
              "      cursor: pointer;\n",
              "      display: none;\n",
              "      fill: #1967D2;\n",
              "      height: 32px;\n",
              "      padding: 0 0 0 0;\n",
              "      width: 32px;\n",
              "    }\n",
              "\n",
              "    .colab-df-convert:hover {\n",
              "      background-color: #E2EBFA;\n",
              "      box-shadow: 0px 1px 2px rgba(60, 64, 67, 0.3), 0px 1px 3px 1px rgba(60, 64, 67, 0.15);\n",
              "      fill: #174EA6;\n",
              "    }\n",
              "\n",
              "    [theme=dark] .colab-df-convert {\n",
              "      background-color: #3B4455;\n",
              "      fill: #D2E3FC;\n",
              "    }\n",
              "\n",
              "    [theme=dark] .colab-df-convert:hover {\n",
              "      background-color: #434B5C;\n",
              "      box-shadow: 0px 1px 3px 1px rgba(0, 0, 0, 0.15);\n",
              "      filter: drop-shadow(0px 1px 2px rgba(0, 0, 0, 0.3));\n",
              "      fill: #FFFFFF;\n",
              "    }\n",
              "  </style>\n",
              "\n",
              "      <script>\n",
              "        const buttonEl =\n",
              "          document.querySelector('#df-a4e329f5-2a7b-4c79-b526-2d09d3d249c7 button.colab-df-convert');\n",
              "        buttonEl.style.display =\n",
              "          google.colab.kernel.accessAllowed ? 'block' : 'none';\n",
              "\n",
              "        async function convertToInteractive(key) {\n",
              "          const element = document.querySelector('#df-a4e329f5-2a7b-4c79-b526-2d09d3d249c7');\n",
              "          const dataTable =\n",
              "            await google.colab.kernel.invokeFunction('convertToInteractive',\n",
              "                                                     [key], {});\n",
              "          if (!dataTable) return;\n",
              "\n",
              "          const docLinkHtml = 'Like what you see? Visit the ' +\n",
              "            '<a target=\"_blank\" href=https://colab.research.google.com/notebooks/data_table.ipynb>data table notebook</a>'\n",
              "            + ' to learn more about interactive tables.';\n",
              "          element.innerHTML = '';\n",
              "          dataTable['output_type'] = 'display_data';\n",
              "          await google.colab.output.renderOutput(dataTable, element);\n",
              "          const docLink = document.createElement('div');\n",
              "          docLink.innerHTML = docLinkHtml;\n",
              "          element.appendChild(docLink);\n",
              "        }\n",
              "      </script>\n",
              "    </div>\n",
              "  </div>\n",
              "  "
            ]
          },
          "metadata": {},
          "execution_count": 30
        }
      ]
    },
    {
      "cell_type": "markdown",
      "source": [
        "Now we have a df that contains the mean precipitation for each day of the year for all Seattle observations."
      ],
      "metadata": {
        "id": "tu4A0o_yOU-7"
      }
    },
    {
      "cell_type": "code",
      "source": [
        "for _, index in enumerate(indices):\n",
        "    df.loc[index, 'precipitation'] = mean_day_precipitation.loc[df.loc[index,'day_of_year']].values[0]"
      ],
      "metadata": {
        "id": "kpqcwORUObhX"
      },
      "execution_count": 31,
      "outputs": []
    },
    {
      "cell_type": "markdown",
      "source": [
        "Now we've replaced all NaN observations with the mean precipitation from the other years and can see that there are no more null/NaN observations in our df"
      ],
      "metadata": {
        "id": "6iohr57jOp0O"
      }
    },
    {
      "cell_type": "code",
      "source": [
        "np.where(df['precipitation'].isna() == True)[0]"
      ],
      "metadata": {
        "colab": {
          "base_uri": "https://localhost:8080/"
        },
        "id": "qR27geVpOzFV",
        "outputId": "de65ee07-a1c0-4a2e-8cea-12bb99820cab"
      },
      "execution_count": 32,
      "outputs": [
        {
          "output_type": "execute_result",
          "data": {
            "text/plain": [
              "array([], dtype=int64)"
            ]
          },
          "metadata": {},
          "execution_count": 32
        }
      ]
    },
    {
      "cell_type": "markdown",
      "source": [
        "##Create any derived variables that will be useful in the analysis."
      ],
      "metadata": {
        "id": "d4ls10lzPBsV"
      }
    },
    {
      "cell_type": "code",
      "source": [
        "df['month'] = pd.DatetimeIndex(df['date']).month"
      ],
      "metadata": {
        "id": "UAoqhIqtPF2v"
      },
      "execution_count": 33,
      "outputs": []
    },
    {
      "cell_type": "code",
      "source": [
        "df['year'] = pd.DatetimeIndex(df['date']).year"
      ],
      "metadata": {
        "id": "coPUhIAOPMb7"
      },
      "execution_count": 34,
      "outputs": []
    },
    {
      "cell_type": "code",
      "source": [
        "df"
      ],
      "metadata": {
        "colab": {
          "base_uri": "https://localhost:8080/",
          "height": 424
        },
        "id": "LGZpcoksPOXH",
        "outputId": "19125fa2-5dc8-4d96-d1e8-91ce6bdb8d22"
      },
      "execution_count": 35,
      "outputs": [
        {
          "output_type": "execute_result",
          "data": {
            "text/plain": [
              "           date city  precipitation  day_of_year  month  year\n",
              "0    2018-01-01  STL           0.00            1      1  2018\n",
              "1    2018-01-02  STL           0.00            2      1  2018\n",
              "2    2018-01-03  STL           0.00            3      1  2018\n",
              "3    2018-01-04  STL           0.00            4      1  2018\n",
              "4    2018-01-05  STL           0.00            5      1  2018\n",
              "...         ...  ...            ...          ...    ...   ...\n",
              "3647 2022-12-27  SEA           0.78          361     12  2022\n",
              "3648 2022-12-28  SEA           0.40          362     12  2022\n",
              "3649 2022-12-29  SEA           0.03          363     12  2022\n",
              "3650 2022-12-30  SEA           0.62          364     12  2022\n",
              "3651 2022-12-31  SEA           0.17          365     12  2022\n",
              "\n",
              "[3652 rows x 6 columns]"
            ],
            "text/html": [
              "\n",
              "  <div id=\"df-3fb51b9d-a523-44bf-80ee-83c3e264ad0f\">\n",
              "    <div class=\"colab-df-container\">\n",
              "      <div>\n",
              "<style scoped>\n",
              "    .dataframe tbody tr th:only-of-type {\n",
              "        vertical-align: middle;\n",
              "    }\n",
              "\n",
              "    .dataframe tbody tr th {\n",
              "        vertical-align: top;\n",
              "    }\n",
              "\n",
              "    .dataframe thead th {\n",
              "        text-align: right;\n",
              "    }\n",
              "</style>\n",
              "<table border=\"1\" class=\"dataframe\">\n",
              "  <thead>\n",
              "    <tr style=\"text-align: right;\">\n",
              "      <th></th>\n",
              "      <th>date</th>\n",
              "      <th>city</th>\n",
              "      <th>precipitation</th>\n",
              "      <th>day_of_year</th>\n",
              "      <th>month</th>\n",
              "      <th>year</th>\n",
              "    </tr>\n",
              "  </thead>\n",
              "  <tbody>\n",
              "    <tr>\n",
              "      <th>0</th>\n",
              "      <td>2018-01-01</td>\n",
              "      <td>STL</td>\n",
              "      <td>0.00</td>\n",
              "      <td>1</td>\n",
              "      <td>1</td>\n",
              "      <td>2018</td>\n",
              "    </tr>\n",
              "    <tr>\n",
              "      <th>1</th>\n",
              "      <td>2018-01-02</td>\n",
              "      <td>STL</td>\n",
              "      <td>0.00</td>\n",
              "      <td>2</td>\n",
              "      <td>1</td>\n",
              "      <td>2018</td>\n",
              "    </tr>\n",
              "    <tr>\n",
              "      <th>2</th>\n",
              "      <td>2018-01-03</td>\n",
              "      <td>STL</td>\n",
              "      <td>0.00</td>\n",
              "      <td>3</td>\n",
              "      <td>1</td>\n",
              "      <td>2018</td>\n",
              "    </tr>\n",
              "    <tr>\n",
              "      <th>3</th>\n",
              "      <td>2018-01-04</td>\n",
              "      <td>STL</td>\n",
              "      <td>0.00</td>\n",
              "      <td>4</td>\n",
              "      <td>1</td>\n",
              "      <td>2018</td>\n",
              "    </tr>\n",
              "    <tr>\n",
              "      <th>4</th>\n",
              "      <td>2018-01-05</td>\n",
              "      <td>STL</td>\n",
              "      <td>0.00</td>\n",
              "      <td>5</td>\n",
              "      <td>1</td>\n",
              "      <td>2018</td>\n",
              "    </tr>\n",
              "    <tr>\n",
              "      <th>...</th>\n",
              "      <td>...</td>\n",
              "      <td>...</td>\n",
              "      <td>...</td>\n",
              "      <td>...</td>\n",
              "      <td>...</td>\n",
              "      <td>...</td>\n",
              "    </tr>\n",
              "    <tr>\n",
              "      <th>3647</th>\n",
              "      <td>2022-12-27</td>\n",
              "      <td>SEA</td>\n",
              "      <td>0.78</td>\n",
              "      <td>361</td>\n",
              "      <td>12</td>\n",
              "      <td>2022</td>\n",
              "    </tr>\n",
              "    <tr>\n",
              "      <th>3648</th>\n",
              "      <td>2022-12-28</td>\n",
              "      <td>SEA</td>\n",
              "      <td>0.40</td>\n",
              "      <td>362</td>\n",
              "      <td>12</td>\n",
              "      <td>2022</td>\n",
              "    </tr>\n",
              "    <tr>\n",
              "      <th>3649</th>\n",
              "      <td>2022-12-29</td>\n",
              "      <td>SEA</td>\n",
              "      <td>0.03</td>\n",
              "      <td>363</td>\n",
              "      <td>12</td>\n",
              "      <td>2022</td>\n",
              "    </tr>\n",
              "    <tr>\n",
              "      <th>3650</th>\n",
              "      <td>2022-12-30</td>\n",
              "      <td>SEA</td>\n",
              "      <td>0.62</td>\n",
              "      <td>364</td>\n",
              "      <td>12</td>\n",
              "      <td>2022</td>\n",
              "    </tr>\n",
              "    <tr>\n",
              "      <th>3651</th>\n",
              "      <td>2022-12-31</td>\n",
              "      <td>SEA</td>\n",
              "      <td>0.17</td>\n",
              "      <td>365</td>\n",
              "      <td>12</td>\n",
              "      <td>2022</td>\n",
              "    </tr>\n",
              "  </tbody>\n",
              "</table>\n",
              "<p>3652 rows × 6 columns</p>\n",
              "</div>\n",
              "      <button class=\"colab-df-convert\" onclick=\"convertToInteractive('df-3fb51b9d-a523-44bf-80ee-83c3e264ad0f')\"\n",
              "              title=\"Convert this dataframe to an interactive table.\"\n",
              "              style=\"display:none;\">\n",
              "        \n",
              "  <svg xmlns=\"http://www.w3.org/2000/svg\" height=\"24px\"viewBox=\"0 0 24 24\"\n",
              "       width=\"24px\">\n",
              "    <path d=\"M0 0h24v24H0V0z\" fill=\"none\"/>\n",
              "    <path d=\"M18.56 5.44l.94 2.06.94-2.06 2.06-.94-2.06-.94-.94-2.06-.94 2.06-2.06.94zm-11 1L8.5 8.5l.94-2.06 2.06-.94-2.06-.94L8.5 2.5l-.94 2.06-2.06.94zm10 10l.94 2.06.94-2.06 2.06-.94-2.06-.94-.94-2.06-.94 2.06-2.06.94z\"/><path d=\"M17.41 7.96l-1.37-1.37c-.4-.4-.92-.59-1.43-.59-.52 0-1.04.2-1.43.59L10.3 9.45l-7.72 7.72c-.78.78-.78 2.05 0 2.83L4 21.41c.39.39.9.59 1.41.59.51 0 1.02-.2 1.41-.59l7.78-7.78 2.81-2.81c.8-.78.8-2.07 0-2.86zM5.41 20L4 18.59l7.72-7.72 1.47 1.35L5.41 20z\"/>\n",
              "  </svg>\n",
              "      </button>\n",
              "      \n",
              "  <style>\n",
              "    .colab-df-container {\n",
              "      display:flex;\n",
              "      flex-wrap:wrap;\n",
              "      gap: 12px;\n",
              "    }\n",
              "\n",
              "    .colab-df-convert {\n",
              "      background-color: #E8F0FE;\n",
              "      border: none;\n",
              "      border-radius: 50%;\n",
              "      cursor: pointer;\n",
              "      display: none;\n",
              "      fill: #1967D2;\n",
              "      height: 32px;\n",
              "      padding: 0 0 0 0;\n",
              "      width: 32px;\n",
              "    }\n",
              "\n",
              "    .colab-df-convert:hover {\n",
              "      background-color: #E2EBFA;\n",
              "      box-shadow: 0px 1px 2px rgba(60, 64, 67, 0.3), 0px 1px 3px 1px rgba(60, 64, 67, 0.15);\n",
              "      fill: #174EA6;\n",
              "    }\n",
              "\n",
              "    [theme=dark] .colab-df-convert {\n",
              "      background-color: #3B4455;\n",
              "      fill: #D2E3FC;\n",
              "    }\n",
              "\n",
              "    [theme=dark] .colab-df-convert:hover {\n",
              "      background-color: #434B5C;\n",
              "      box-shadow: 0px 1px 3px 1px rgba(0, 0, 0, 0.15);\n",
              "      filter: drop-shadow(0px 1px 2px rgba(0, 0, 0, 0.3));\n",
              "      fill: #FFFFFF;\n",
              "    }\n",
              "  </style>\n",
              "\n",
              "      <script>\n",
              "        const buttonEl =\n",
              "          document.querySelector('#df-3fb51b9d-a523-44bf-80ee-83c3e264ad0f button.colab-df-convert');\n",
              "        buttonEl.style.display =\n",
              "          google.colab.kernel.accessAllowed ? 'block' : 'none';\n",
              "\n",
              "        async function convertToInteractive(key) {\n",
              "          const element = document.querySelector('#df-3fb51b9d-a523-44bf-80ee-83c3e264ad0f');\n",
              "          const dataTable =\n",
              "            await google.colab.kernel.invokeFunction('convertToInteractive',\n",
              "                                                     [key], {});\n",
              "          if (!dataTable) return;\n",
              "\n",
              "          const docLinkHtml = 'Like what you see? Visit the ' +\n",
              "            '<a target=\"_blank\" href=https://colab.research.google.com/notebooks/data_table.ipynb>data table notebook</a>'\n",
              "            + ' to learn more about interactive tables.';\n",
              "          element.innerHTML = '';\n",
              "          dataTable['output_type'] = 'display_data';\n",
              "          await google.colab.output.renderOutput(dataTable, element);\n",
              "          const docLink = document.createElement('div');\n",
              "          docLink.innerHTML = docLinkHtml;\n",
              "          element.appendChild(docLink);\n",
              "        }\n",
              "      </script>\n",
              "    </div>\n",
              "  </div>\n",
              "  "
            ]
          },
          "metadata": {},
          "execution_count": 35
        }
      ]
    },
    {
      "cell_type": "markdown",
      "source": [
        "We've added month and year columns to the df as well, which will allow us to make graphs and summaries based on groupings of now day, month and year."
      ],
      "metadata": {
        "id": "khOQi3U5PQYV"
      }
    },
    {
      "cell_type": "code",
      "source": [
        "inch_of_rain = df[df['precipitation'].between(1, 8)]"
      ],
      "metadata": {
        "id": "BGhNjbOjqYJc"
      },
      "execution_count": 36,
      "outputs": []
    },
    {
      "cell_type": "code",
      "source": [
        "no_rain = df[df['precipitation'] == 0]"
      ],
      "metadata": {
        "id": "cy0YAQn5qar1"
      },
      "execution_count": 37,
      "outputs": []
    },
    {
      "cell_type": "markdown",
      "source": [
        "I've also created two new dataframes to show observation subsets where cities got at least an inch of rain, and another where they got no rain. This will help me in analyzing the data and figuring out how best to answer the question"
      ],
      "metadata": {
        "id": "ETGfPthoqc_W"
      }
    },
    {
      "cell_type": "markdown",
      "source": [
        "##Export clean data file"
      ],
      "metadata": {
        "id": "paZlcVJdqtj0"
      }
    },
    {
      "cell_type": "code",
      "source": [
        "from google.colab import files\n",
        "\n",
        "df.to_csv('clean_seattle_stl_weather.csv', encoding = 'utf-8-sig', index=False) \n",
        "\n",
        "files.download('clean_seattle_stl_weather.csv')"
      ],
      "metadata": {
        "colab": {
          "base_uri": "https://localhost:8080/",
          "height": 17
        },
        "id": "rVAc6gIcqzVG",
        "outputId": "fb2f236c-cb99-4b0d-a76d-a3e5372f0ae8"
      },
      "execution_count": 38,
      "outputs": [
        {
          "output_type": "display_data",
          "data": {
            "text/plain": [
              "<IPython.core.display.Javascript object>"
            ],
            "application/javascript": [
              "\n",
              "    async function download(id, filename, size) {\n",
              "      if (!google.colab.kernel.accessAllowed) {\n",
              "        return;\n",
              "      }\n",
              "      const div = document.createElement('div');\n",
              "      const label = document.createElement('label');\n",
              "      label.textContent = `Downloading \"${filename}\": `;\n",
              "      div.appendChild(label);\n",
              "      const progress = document.createElement('progress');\n",
              "      progress.max = size;\n",
              "      div.appendChild(progress);\n",
              "      document.body.appendChild(div);\n",
              "\n",
              "      const buffers = [];\n",
              "      let downloaded = 0;\n",
              "\n",
              "      const channel = await google.colab.kernel.comms.open(id);\n",
              "      // Send a message to notify the kernel that we're ready.\n",
              "      channel.send({})\n",
              "\n",
              "      for await (const message of channel.messages) {\n",
              "        // Send a message to notify the kernel that we're ready.\n",
              "        channel.send({})\n",
              "        if (message.buffers) {\n",
              "          for (const buffer of message.buffers) {\n",
              "            buffers.push(buffer);\n",
              "            downloaded += buffer.byteLength;\n",
              "            progress.value = downloaded;\n",
              "          }\n",
              "        }\n",
              "      }\n",
              "      const blob = new Blob(buffers, {type: 'application/binary'});\n",
              "      const a = document.createElement('a');\n",
              "      a.href = window.URL.createObjectURL(blob);\n",
              "      a.download = filename;\n",
              "      div.appendChild(a);\n",
              "      a.click();\n",
              "      div.remove();\n",
              "    }\n",
              "  "
            ]
          },
          "metadata": {}
        },
        {
          "output_type": "display_data",
          "data": {
            "text/plain": [
              "<IPython.core.display.Javascript object>"
            ],
            "application/javascript": [
              "download(\"download_6d909b31-80af-4445-84d3-ff7d3d16d21a\", \"clean_seattle_stl_weather.csv\", 111964)"
            ]
          },
          "metadata": {}
        }
      ]
    }
  ]
}